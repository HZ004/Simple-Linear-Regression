{
 "cells": [
  {
   "cell_type": "markdown",
   "id": "7879bd7d-ca9d-4cf8-9437-5d68e540787e",
   "metadata": {
    "colab_type": "text",
    "id": "UgLPjlenOAZU",
    "toc-hr-collapsed": true
   },
   "source": [
    "# Import Libraries and Data Set"
   ]
  },
  {
   "cell_type": "markdown",
   "id": "efe3661a-2e74-414a-b8f3-d786894c0096",
   "metadata": {},
   "source": [
    "### Salary_hike -> Build a prediction model for Salary_hike"
   ]
  },
  {
   "cell_type": "code",
   "execution_count": 1,
   "id": "55e73daf-8d65-4850-a275-7a40937dc035",
   "metadata": {
    "colab": {},
    "colab_type": "code",
    "id": "t87KFKu3OAZV",
    "outputId": "9fff4407-61bf-480a-a972-cc45fa6cef2c"
   },
   "outputs": [
    {
     "data": {
      "text/html": [
       "<div>\n",
       "<style scoped>\n",
       "    .dataframe tbody tr th:only-of-type {\n",
       "        vertical-align: middle;\n",
       "    }\n",
       "\n",
       "    .dataframe tbody tr th {\n",
       "        vertical-align: top;\n",
       "    }\n",
       "\n",
       "    .dataframe thead th {\n",
       "        text-align: right;\n",
       "    }\n",
       "</style>\n",
       "<table border=\"1\" class=\"dataframe\">\n",
       "  <thead>\n",
       "    <tr style=\"text-align: right;\">\n",
       "      <th></th>\n",
       "      <th>YearsExperience</th>\n",
       "      <th>Salary</th>\n",
       "    </tr>\n",
       "  </thead>\n",
       "  <tbody>\n",
       "    <tr>\n",
       "      <th>0</th>\n",
       "      <td>1.1</td>\n",
       "      <td>39343.0</td>\n",
       "    </tr>\n",
       "    <tr>\n",
       "      <th>1</th>\n",
       "      <td>1.3</td>\n",
       "      <td>46205.0</td>\n",
       "    </tr>\n",
       "    <tr>\n",
       "      <th>2</th>\n",
       "      <td>1.5</td>\n",
       "      <td>37731.0</td>\n",
       "    </tr>\n",
       "    <tr>\n",
       "      <th>3</th>\n",
       "      <td>2.0</td>\n",
       "      <td>43525.0</td>\n",
       "    </tr>\n",
       "    <tr>\n",
       "      <th>4</th>\n",
       "      <td>2.2</td>\n",
       "      <td>39891.0</td>\n",
       "    </tr>\n",
       "  </tbody>\n",
       "</table>\n",
       "</div>"
      ],
      "text/plain": [
       "   YearsExperience   Salary\n",
       "0              1.1  39343.0\n",
       "1              1.3  46205.0\n",
       "2              1.5  37731.0\n",
       "3              2.0  43525.0\n",
       "4              2.2  39891.0"
      ]
     },
     "execution_count": 1,
     "metadata": {},
     "output_type": "execute_result"
    }
   ],
   "source": [
    "import pandas as pd\n",
    "import seaborn as sns\n",
    "import numpy as np\n",
    "import matplotlib.pyplot as plt\n",
    "%matplotlib inline\n",
    "\n",
    "data = pd.read_csv(\"C:/Users/HP/Downloads/Salary_data.csv\")\n",
    "data.head()"
   ]
  },
  {
   "cell_type": "code",
   "execution_count": 2,
   "id": "2dd99088-c14a-4a9a-81db-7b8b8aa5fd74",
   "metadata": {},
   "outputs": [
    {
     "name": "stdout",
     "output_type": "stream",
     "text": [
      "<class 'pandas.core.frame.DataFrame'>\n",
      "RangeIndex: 30 entries, 0 to 29\n",
      "Data columns (total 2 columns):\n",
      " #   Column           Non-Null Count  Dtype  \n",
      "---  ------           --------------  -----  \n",
      " 0   YearsExperience  30 non-null     float64\n",
      " 1   Salary           30 non-null     float64\n",
      "dtypes: float64(2)\n",
      "memory usage: 608.0 bytes\n"
     ]
    }
   ],
   "source": [
    "data.info()\n",
    "# All the rows have data and contain no NaN values, and have correct datatypes hence no need to go ahead with EDA"
   ]
  },
  {
   "cell_type": "code",
   "execution_count": 3,
   "id": "408efca1-14cb-4bd5-877f-1b52e3c3bcae",
   "metadata": {},
   "outputs": [
    {
     "data": {
      "text/html": [
       "<div>\n",
       "<style scoped>\n",
       "    .dataframe tbody tr th:only-of-type {\n",
       "        vertical-align: middle;\n",
       "    }\n",
       "\n",
       "    .dataframe tbody tr th {\n",
       "        vertical-align: top;\n",
       "    }\n",
       "\n",
       "    .dataframe thead th {\n",
       "        text-align: right;\n",
       "    }\n",
       "</style>\n",
       "<table border=\"1\" class=\"dataframe\">\n",
       "  <thead>\n",
       "    <tr style=\"text-align: right;\">\n",
       "      <th></th>\n",
       "      <th>YearsExperience</th>\n",
       "      <th>Salary</th>\n",
       "    </tr>\n",
       "  </thead>\n",
       "  <tbody>\n",
       "    <tr>\n",
       "      <th>count</th>\n",
       "      <td>30.000000</td>\n",
       "      <td>30.000000</td>\n",
       "    </tr>\n",
       "    <tr>\n",
       "      <th>mean</th>\n",
       "      <td>5.313333</td>\n",
       "      <td>76003.000000</td>\n",
       "    </tr>\n",
       "    <tr>\n",
       "      <th>std</th>\n",
       "      <td>2.837888</td>\n",
       "      <td>27414.429785</td>\n",
       "    </tr>\n",
       "    <tr>\n",
       "      <th>min</th>\n",
       "      <td>1.100000</td>\n",
       "      <td>37731.000000</td>\n",
       "    </tr>\n",
       "    <tr>\n",
       "      <th>25%</th>\n",
       "      <td>3.200000</td>\n",
       "      <td>56720.750000</td>\n",
       "    </tr>\n",
       "    <tr>\n",
       "      <th>50%</th>\n",
       "      <td>4.700000</td>\n",
       "      <td>65237.000000</td>\n",
       "    </tr>\n",
       "    <tr>\n",
       "      <th>75%</th>\n",
       "      <td>7.700000</td>\n",
       "      <td>100544.750000</td>\n",
       "    </tr>\n",
       "    <tr>\n",
       "      <th>max</th>\n",
       "      <td>10.500000</td>\n",
       "      <td>122391.000000</td>\n",
       "    </tr>\n",
       "  </tbody>\n",
       "</table>\n",
       "</div>"
      ],
      "text/plain": [
       "       YearsExperience         Salary\n",
       "count        30.000000      30.000000\n",
       "mean          5.313333   76003.000000\n",
       "std           2.837888   27414.429785\n",
       "min           1.100000   37731.000000\n",
       "25%           3.200000   56720.750000\n",
       "50%           4.700000   65237.000000\n",
       "75%           7.700000  100544.750000\n",
       "max          10.500000  122391.000000"
      ]
     },
     "execution_count": 3,
     "metadata": {},
     "output_type": "execute_result"
    }
   ],
   "source": [
    "data.describe()"
   ]
  },
  {
   "cell_type": "markdown",
   "id": "8695d504-5d69-480a-915f-2eceeb45eeb0",
   "metadata": {
    "colab_type": "text",
    "id": "whOIvCAzOAZZ"
   },
   "source": [
    "# Check Correlation"
   ]
  },
  {
   "cell_type": "code",
   "execution_count": 4,
   "id": "028a86a9-df10-4e98-bc2f-e0703cfc1263",
   "metadata": {
    "colab": {},
    "colab_type": "code",
    "id": "4Uaqam_BOAZZ",
    "outputId": "2118fe0b-d1d6-4474-cf45-8e8b0b4680b2"
   },
   "outputs": [
    {
     "data": {
      "text/html": [
       "<div>\n",
       "<style scoped>\n",
       "    .dataframe tbody tr th:only-of-type {\n",
       "        vertical-align: middle;\n",
       "    }\n",
       "\n",
       "    .dataframe tbody tr th {\n",
       "        vertical-align: top;\n",
       "    }\n",
       "\n",
       "    .dataframe thead th {\n",
       "        text-align: right;\n",
       "    }\n",
       "</style>\n",
       "<table border=\"1\" class=\"dataframe\">\n",
       "  <thead>\n",
       "    <tr style=\"text-align: right;\">\n",
       "      <th></th>\n",
       "      <th>YearsExperience</th>\n",
       "      <th>Salary</th>\n",
       "    </tr>\n",
       "  </thead>\n",
       "  <tbody>\n",
       "    <tr>\n",
       "      <th>YearsExperience</th>\n",
       "      <td>1.000000</td>\n",
       "      <td>0.978242</td>\n",
       "    </tr>\n",
       "    <tr>\n",
       "      <th>Salary</th>\n",
       "      <td>0.978242</td>\n",
       "      <td>1.000000</td>\n",
       "    </tr>\n",
       "  </tbody>\n",
       "</table>\n",
       "</div>"
      ],
      "text/plain": [
       "                 YearsExperience    Salary\n",
       "YearsExperience         1.000000  0.978242\n",
       "Salary                  0.978242  1.000000"
      ]
     },
     "execution_count": 4,
     "metadata": {},
     "output_type": "execute_result"
    }
   ],
   "source": [
    "data.corr()\n",
    "# Correlation is more than 0.8.\n",
    "# Higher correlation suggests Linear regression may provide better predictions"
   ]
  },
  {
   "cell_type": "code",
   "execution_count": 5,
   "id": "c77c5bad-deba-4c9c-8f3d-6e24c29c47fb",
   "metadata": {},
   "outputs": [
    {
     "name": "stderr",
     "output_type": "stream",
     "text": [
      "C:\\Users\\HP\\anaconda3\\lib\\site-packages\\seaborn\\distributions.py:2619: FutureWarning: `distplot` is a deprecated function and will be removed in a future version. Please adapt your code to use either `displot` (a figure-level function with similar flexibility) or `histplot` (an axes-level function for histograms).\n",
      "  warnings.warn(msg, FutureWarning)\n"
     ]
    },
    {
     "data": {
      "text/plain": [
       "<AxesSubplot:xlabel='YearsExperience', ylabel='Density'>"
      ]
     },
     "execution_count": 5,
     "metadata": {},
     "output_type": "execute_result"
    },
    {
     "data": {
      "image/png": "[encoded data removed]",
      "text/plain": [
       "<Figure size 432x288 with 1 Axes>"
      ]
     },
     "metadata": {
      "needs_background": "light"
     },
     "output_type": "display_data"
    }
   ],
   "source": [
    "# Plot both columns\n",
    "sns.distplot(data['YearsExperience'])"
   ]
  },
  {
   "cell_type": "code",
   "execution_count": 6,
   "id": "d8556287-947e-4086-b416-b09e58f4b73b",
   "metadata": {},
   "outputs": [
    {
     "name": "stderr",
     "output_type": "stream",
     "text": [
      "C:\\Users\\HP\\anaconda3\\lib\\site-packages\\seaborn\\distributions.py:2619: FutureWarning: `distplot` is a deprecated function and will be removed in a future version. Please adapt your code to use either `displot` (a figure-level function with similar flexibility) or `histplot` (an axes-level function for histograms).\n",
      "  warnings.warn(msg, FutureWarning)\n"
     ]
    },
    {
     "data": {
      "text/plain": [
       "<AxesSubplot:xlabel='Salary', ylabel='Density'>"
      ]
     },
     "execution_count": 6,
     "metadata": {},
     "output_type": "execute_result"
    },
    {
     "data": {
      "image/png": "[encoded data removed]",
      "text/plain": [
       "<Figure size 432x288 with 1 Axes>"
      ]
     },
     "metadata": {
      "needs_background": "light"
     },
     "output_type": "display_data"
    }
   ],
   "source": [
    "sns.distplot(data['Salary'])\n",
    "# Both distplots show that values are fairly normally distributed"
   ]
  },
  {
   "cell_type": "code",
   "execution_count": 7,
   "id": "63b79244-c552-4ee2-b27a-5ce086f6768a",
   "metadata": {},
   "outputs": [
    {
     "data": {
      "text/plain": [
       "<AxesSubplot:xlabel='YearsExperience', ylabel='Salary'>"
      ]
     },
     "execution_count": 7,
     "metadata": {},
     "output_type": "execute_result"
    },
    {
     "data": {
      "image/png": "[encoded data removed]",
      "text/plain": [
       "<Figure size 432x288 with 1 Axes>"
      ]
     },
     "metadata": {
      "needs_background": "light"
     },
     "output_type": "display_data"
    }
   ],
   "source": [
    "sns.scatterplot(x=data['YearsExperience'],y=data['Salary'])\n"
   ]
  },
  {
   "cell_type": "markdown",
   "id": "35ccc660-eb2e-4967-a6ad-94936ebe92f0",
   "metadata": {
    "colab_type": "text",
    "id": "Hh2B9xPQOAZc"
   },
   "source": [
    "# Fitting a Linear Regression Model"
   ]
  },
  {
   "cell_type": "markdown",
   "id": "4c06978c-82c6-46ff-b637-5205e36ec6d0",
   "metadata": {
    "toc-hr-collapsed": true
   },
   "source": [
    "### 1. for y~x"
   ]
  },
  {
   "cell_type": "code",
   "execution_count": 8,
   "id": "06c54432-648c-4365-8fa0-41166c1e23d6",
   "metadata": {
    "colab": {},
    "colab_type": "code",
    "id": "0SO63uMnOAZc",
    "outputId": "d755b8ff-516d-45b1-aab6-6dbf24284151"
   },
   "outputs": [],
   "source": [
    "import statsmodels.formula.api as smf\n",
    "model = smf.ols('Salary~YearsExperience',data = data).fit()"
   ]
  },
  {
   "cell_type": "code",
   "execution_count": 9,
   "id": "2f2f5905-aa33-4f7c-9768-c74e55b20408",
   "metadata": {},
   "outputs": [
    {
     "data": {
      "image/png": "[encoded data removed]",
      "text/plain": [
       "<Figure size 432x288 with 1 Axes>"
      ]
     },
     "metadata": {
      "needs_background": "light"
     },
     "output_type": "display_data"
    }
   ],
   "source": [
    "sns.regplot(x=\"Salary\", y=\"YearsExperience\", data=data);"
   ]
  },
  {
   "cell_type": "code",
   "execution_count": 10,
   "id": "ef4413c5-4eef-4f30-8544-f8a865bebba6",
   "metadata": {},
   "outputs": [
    {
     "data": {
      "text/plain": [
       "Intercept          25792.200199\n",
       "YearsExperience     9449.962321\n",
       "dtype: float64"
      ]
     },
     "execution_count": 10,
     "metadata": {},
     "output_type": "execute_result"
    }
   ],
   "source": [
    "#Coefficients\n",
    "model.params"
   ]
  },
  {
   "cell_type": "code",
   "execution_count": 11,
   "id": "dc8ab35b-6015-4a68-8f1e-0a9ffbfc2054",
   "metadata": {},
   "outputs": [
    {
     "name": "stdout",
     "output_type": "stream",
     "text": [
      "Intercept          11.346940\n",
      "YearsExperience    24.950094\n",
      "dtype: float64 \n",
      " Intercept          5.511950e-12\n",
      "YearsExperience    1.143068e-20\n",
      "dtype: float64\n"
     ]
    }
   ],
   "source": [
    "#t and p-Values\n",
    "\n",
    "print(model.tvalues, '\\n', model.pvalues)   \n",
    "\n",
    "# pvalues for both intercept and y are less than 0.05"
   ]
  },
  {
   "cell_type": "code",
   "execution_count": 12,
   "id": "a9d12831-6351-4061-9d8d-88874f4f5733",
   "metadata": {},
   "outputs": [
    {
     "data": {
      "text/plain": [
       "(0.9569566641435086, 0.9554194021486339)"
      ]
     },
     "execution_count": 12,
     "metadata": {},
     "output_type": "execute_result"
    }
   ],
   "source": [
    "#R squared values\n",
    "(model.rsquared,model.rsquared_adj)"
   ]
  },
  {
   "cell_type": "markdown",
   "id": "d8c4eb03-f5e8-4ba3-af7c-b88d047fc813",
   "metadata": {
    "colab_type": "text",
    "id": "F2S7v7rdOAZf"
   },
   "source": [
    "#### Predict for original dataset"
   ]
  },
  {
   "cell_type": "code",
   "execution_count": 13,
   "id": "d42e624b-4452-40f6-9689-4fb18cbc9792",
   "metadata": {
    "colab": {},
    "colab_type": "code",
    "id": "rqe52vmCOAZg",
    "outputId": "1578e5b2-5135-41d4-875a-e580cf87dc6b"
   },
   "outputs": [],
   "source": [
    "#Predict for the given dataset values of original dataset\n"
   ]
  },
  {
   "cell_type": "code",
   "execution_count": 14,
   "id": "ae24711d-2d01-4260-b2ee-cb57ece54c03",
   "metadata": {},
   "outputs": [
    {
     "data": {
      "text/plain": [
       "0      36187.158752\n",
       "1      38077.151217\n",
       "2      39967.143681\n",
       "3      44692.124842\n",
       "4      46582.117306\n",
       "5      53197.090931\n",
       "6      54142.087163\n",
       "7      56032.079627\n",
       "8      56032.079627\n",
       "9      60757.060788\n",
       "10     62647.053252\n",
       "11     63592.049484\n",
       "12     63592.049484\n",
       "13     64537.045717\n",
       "14     68317.030645\n",
       "15     72097.015574\n",
       "16     73987.008038\n",
       "17     75877.000502\n",
       "18     81546.977895\n",
       "19     82491.974127\n",
       "20     90051.943985\n",
       "21     92886.932681\n",
       "22    100446.902538\n",
       "23    103281.891235\n",
       "24    108006.872395\n",
       "25    110841.861092\n",
       "26    115566.842252\n",
       "27    116511.838485\n",
       "28    123126.812110\n",
       "29    125016.804574\n",
       "dtype: float64"
      ]
     },
     "execution_count": 14,
     "metadata": {},
     "output_type": "execute_result"
    }
   ],
   "source": [
    "model.predict(data)\n",
    "# Predictions for input data"
   ]
  },
  {
   "cell_type": "code",
   "execution_count": 15,
   "id": "b3cf39cb-4f42-4623-a35f-20943820dd83",
   "metadata": {},
   "outputs": [
    {
     "data": {
      "image/png": "[encoded data removed]",
      "text/plain": [
       "<Figure size 432x288 with 1 Axes>"
      ]
     },
     "metadata": {
      "needs_background": "light"
     },
     "output_type": "display_data"
    }
   ],
   "source": [
    "# Comparing original Data's scatterplot with regressed model's scatterplot\n",
    "plt.scatter(data.Salary,data.YearsExperience)\n",
    "plt.scatter(model.predict(data),data.YearsExperience,marker='+')\n",
    "plt.show()"
   ]
  },
  {
   "cell_type": "code",
   "execution_count": null,
   "id": "60673916-d68b-4fe8-af3d-dfedd5287d4f",
   "metadata": {
    "tags": []
   },
   "outputs": [],
   "source": []
  },
  {
   "cell_type": "markdown",
   "id": "547fb954-0238-42d2-9146-b947ad64fb5f",
   "metadata": {
    "toc-hr-collapsed": true
   },
   "source": [
    "### 2. for y~np.log(x)"
   ]
  },
  {
   "cell_type": "code",
   "execution_count": 16,
   "id": "5423ca09-7131-435a-bcd7-9a7c08035405",
   "metadata": {},
   "outputs": [],
   "source": [
    "y = data.Salary\n",
    "x = data.YearsExperience\n"
   ]
  },
  {
   "cell_type": "code",
   "execution_count": 17,
   "id": "d4db8f9d-7fb3-4c07-8b59-2e56ad224e2f",
   "metadata": {
    "colab": {},
    "colab_type": "code",
    "id": "0SO63uMnOAZc",
    "outputId": "d755b8ff-516d-45b1-aab6-6dbf24284151"
   },
   "outputs": [],
   "source": [
    "model = smf.ols('y~np.log(x)',data = data).fit()"
   ]
  },
  {
   "cell_type": "code",
   "execution_count": 18,
   "id": "ded539ff-2c7c-4d08-bcb4-504bb73952bb",
   "metadata": {},
   "outputs": [
    {
     "data": {
      "image/png": "[encoded data removed]",
      "text/plain": [
       "<Figure size 432x288 with 1 Axes>"
      ]
     },
     "metadata": {
      "needs_background": "light"
     },
     "output_type": "display_data"
    }
   ],
   "source": [
    "sns.regplot(x=y, y=np.log(x), data=data);"
   ]
  },
  {
   "cell_type": "code",
   "execution_count": 19,
   "id": "73a8d6a1-af12-4698-8458-75fe93fa0eca",
   "metadata": {},
   "outputs": [
    {
     "data": {
      "text/plain": [
       "Intercept    14927.97177\n",
       "np.log(x)    40581.98796\n",
       "dtype: float64"
      ]
     },
     "execution_count": 19,
     "metadata": {},
     "output_type": "execute_result"
    }
   ],
   "source": [
    "#Coefficients\n",
    "model.params"
   ]
  },
  {
   "cell_type": "code",
   "execution_count": 20,
   "id": "6ca33391-08bc-449b-ba2e-f96d11c6b088",
   "metadata": {},
   "outputs": [
    {
     "name": "stdout",
     "output_type": "stream",
     "text": [
      "Intercept     2.895135\n",
      "np.log(x)    12.791989\n",
      "dtype: float64 \n",
      " Intercept    7.268813e-03\n",
      "np.log(x)    3.250155e-13\n",
      "dtype: float64\n"
     ]
    }
   ],
   "source": [
    "#t and p-Values\n",
    "\n",
    "print(model.tvalues, '\\n', model.pvalues) \n",
    "# pvalues for intercept is higher and for y-intercept is less than 0.05"
   ]
  },
  {
   "cell_type": "code",
   "execution_count": 21,
   "id": "719cf7e4-39e7-4bf1-9936-1680fc5f770c",
   "metadata": {},
   "outputs": [
    {
     "data": {
      "text/plain": [
       "(0.8538888828756969, 0.8486706286926861)"
      ]
     },
     "execution_count": 21,
     "metadata": {},
     "output_type": "execute_result"
    }
   ],
   "source": [
    "#R squared values\n",
    "(model.rsquared,model.rsquared_adj)\n",
    "# rsquare values are better than y~x"
   ]
  },
  {
   "cell_type": "markdown",
   "id": "53bc4741-6056-4d82-8e90-c9dc963c5620",
   "metadata": {
    "colab_type": "text",
    "id": "F2S7v7rdOAZf"
   },
   "source": [
    "#### Predict for original dataset"
   ]
  },
  {
   "cell_type": "code",
   "execution_count": 22,
   "id": "3dd28e75-6009-479a-a2a1-9f165005a016",
   "metadata": {
    "colab": {},
    "colab_type": "code",
    "id": "rqe52vmCOAZg",
    "outputId": "1578e5b2-5135-41d4-875a-e580cf87dc6b"
   },
   "outputs": [],
   "source": [
    "#Predict for the given dataset values of original dataset\n"
   ]
  },
  {
   "cell_type": "code",
   "execution_count": 23,
   "id": "7197e7b1-96f3-48b4-84e4-6c686d1197ac",
   "metadata": {},
   "outputs": [
    {
     "data": {
      "text/plain": [
       "0      18795.848339\n",
       "1      25575.235192\n",
       "2      31382.551905\n",
       "3      43057.262306\n",
       "4      46925.138875\n",
       "5      58136.050079\n",
       "6      59511.842441\n",
       "7      62130.943929\n",
       "8      62130.943929\n",
       "9      68022.718504\n",
       "10     70159.105863\n",
       "11     71186.552842\n",
       "12     71186.552842\n",
       "13     72188.628149\n",
       "14     75966.422577\n",
       "15     79422.295729\n",
       "16     81045.791737\n",
       "17     82606.829882\n",
       "18     86959.066704\n",
       "19     87641.132977\n",
       "20     92720.502137\n",
       "21     94472.514696\n",
       "22     98805.371390\n",
       "23    100317.918684\n",
       "24    102719.920751\n",
       "25    104095.713112\n",
       "26    106289.868435\n",
       "27    106714.814600\n",
       "28    109571.007247\n",
       "29    110351.454145\n",
       "dtype: float64"
      ]
     },
     "execution_count": 23,
     "metadata": {},
     "output_type": "execute_result"
    }
   ],
   "source": [
    "model.predict(data)\n",
    "# Predictions for input data"
   ]
  },
  {
   "cell_type": "code",
   "execution_count": 26,
   "id": "92ce2415-c736-4ac6-ac86-ad102c348830",
   "metadata": {},
   "outputs": [
    {
     "data": {
      "image/png": "[encoded data removed]",
      "text/plain": [
       "<Figure size 432x288 with 1 Axes>"
      ]
     },
     "metadata": {
      "needs_background": "light"
     },
     "output_type": "display_data"
    }
   ],
   "source": [
    "# Comparing original Data's scatterplot with regressed model's scatterplot\n",
    "plt.scatter(data.Salary,data.YearsExperience)\n",
    "plt.scatter(model.predict(data),data.YearsExperience,marker='+')\n",
    "plt.show()"
   ]
  },
  {
   "cell_type": "markdown",
   "id": "2297399f-8224-4ffc-b5f0-2e8c9bdfb978",
   "metadata": {
    "toc-hr-collapsed": true
   },
   "source": [
    "### 3. for np.log(y)~x"
   ]
  },
  {
   "cell_type": "code",
   "execution_count": 27,
   "id": "09c0018c-036b-4256-811c-3f7241d53bc8",
   "metadata": {},
   "outputs": [],
   "source": [
    "y = data.Salary\n",
    "x = data.YearsExperience\n"
   ]
  },
  {
   "cell_type": "code",
   "execution_count": 28,
   "id": "3af6942c-2aa1-48d8-9bdd-9c8030d025ad",
   "metadata": {
    "colab": {},
    "colab_type": "code",
    "id": "0SO63uMnOAZc",
    "outputId": "d755b8ff-516d-45b1-aab6-6dbf24284151"
   },
   "outputs": [],
   "source": [
    "model = smf.ols('np.log(y)~x',data = data).fit()"
   ]
  },
  {
   "cell_type": "code",
   "execution_count": 29,
   "id": "72f361fd-89a5-42e9-8756-b8da3dfdcff0",
   "metadata": {},
   "outputs": [
    {
     "data": {
      "image/png": "[encoded data removed]",
      "text/plain": [
       "<Figure size 432x288 with 1 Axes>"
      ]
     },
     "metadata": {
      "needs_background": "light"
     },
     "output_type": "display_data"
    }
   ],
   "source": [
    "sns.regplot(x=np.log(y), y=x, data=data,logx=True);"
   ]
  },
  {
   "cell_type": "code",
   "execution_count": 30,
   "id": "929fcf45-8e28-4b9f-ae04-0430feb5e0eb",
   "metadata": {},
   "outputs": [
    {
     "data": {
      "text/plain": [
       "Intercept    10.507402\n",
       "x             0.125453\n",
       "dtype: float64"
      ]
     },
     "execution_count": 30,
     "metadata": {},
     "output_type": "execute_result"
    }
   ],
   "source": [
    "#Coefficients\n",
    "model.params"
   ]
  },
  {
   "cell_type": "code",
   "execution_count": 31,
   "id": "e27efe4a-7864-45f1-b8f5-ddc61e453184",
   "metadata": {},
   "outputs": [
    {
     "name": "stdout",
     "output_type": "stream",
     "text": [
      "Intercept    273.327166\n",
      "x             19.584833\n",
      "dtype: float64 \n",
      " Intercept    1.604634e-49\n",
      "x            7.027439e-18\n",
      "dtype: float64\n"
     ]
    }
   ],
   "source": [
    "#t and p-Values\n",
    "\n",
    "print(model.tvalues, '\\n', model.pvalues) \n",
    "# pvalues for both intercept and y are less than 0.05"
   ]
  },
  {
   "cell_type": "code",
   "execution_count": 32,
   "id": "2d731b70-4c90-431a-856f-ea014e11fc32",
   "metadata": {},
   "outputs": [
    {
     "data": {
      "text/plain": [
       "(0.9319671194084195, 0.9295373736730059)"
      ]
     },
     "execution_count": 32,
     "metadata": {},
     "output_type": "execute_result"
    }
   ],
   "source": [
    "#R squared values\n",
    "(model.rsquared,model.rsquared_adj)"
   ]
  },
  {
   "cell_type": "markdown",
   "id": "9c52355e-d245-42e4-a3f5-a837420c7048",
   "metadata": {
    "colab_type": "text",
    "id": "F2S7v7rdOAZf"
   },
   "source": [
    "#### Predict for original dataset"
   ]
  },
  {
   "cell_type": "code",
   "execution_count": 33,
   "id": "3606917a-bc41-42cc-a2be-6afefbc165be",
   "metadata": {
    "colab": {},
    "colab_type": "code",
    "id": "rqe52vmCOAZg",
    "outputId": "1578e5b2-5135-41d4-875a-e580cf87dc6b"
   },
   "outputs": [],
   "source": [
    "#Predict for the given dataset values of original dataset\n"
   ]
  },
  {
   "cell_type": "code",
   "execution_count": 34,
   "id": "da5b4c0d-20ef-4f0b-91f0-0a9044ac36c5",
   "metadata": {},
   "outputs": [
    {
     "data": {
      "text/plain": [
       "0      41998.957468\n",
       "1      43066.066794\n",
       "2      44160.289228\n",
       "3      47019.029189\n",
       "4      48213.688474\n",
       "5      52639.142472\n",
       "6      53303.675386\n",
       "7      54658.014935\n",
       "8      54658.014935\n",
       "9      58196.330788\n",
       "10     59674.982903\n",
       "11     60428.338456\n",
       "12     60428.338456\n",
       "13     61191.204604\n",
       "14     64340.199291\n",
       "15     67651.246149\n",
       "16     69370.128712\n",
       "17     71132.684635\n",
       "18     76693.630780\n",
       "19     77661.835040\n",
       "20     85860.704208\n",
       "21     89153.725393\n",
       "22     98565.809591\n",
       "23    102346.110512\n",
       "24    108971.540758\n",
       "25    113150.933364\n",
       "26    120475.819601\n",
       "27    121996.743836\n",
       "28    133194.621344\n",
       "29    136578.829694\n",
       "dtype: float64"
      ]
     },
     "execution_count": 34,
     "metadata": {},
     "output_type": "execute_result"
    }
   ],
   "source": [
    "np.exp(model.predict(data))\n",
    "# Predictions for input data = These predictions are way off the original data"
   ]
  },
  {
   "cell_type": "code",
   "execution_count": 35,
   "id": "caaa0261-ecdb-4976-bccc-bf0c80ca6092",
   "metadata": {},
   "outputs": [
    {
     "data": {
      "image/png": "[encoded data removed]",
      "text/plain": [
       "<Figure size 432x288 with 1 Axes>"
      ]
     },
     "metadata": {
      "needs_background": "light"
     },
     "output_type": "display_data"
    }
   ],
   "source": [
    "# Comparing original Data's scatterplot with regressed model's scatterplot\n",
    "plt.scatter(data.YearsExperience,(data.Salary))\n",
    "plt.scatter(data.YearsExperience,np.exp(model.predict(data)),marker='+')\n",
    "plt.show()"
   ]
  },
  {
   "cell_type": "markdown",
   "id": "3ff2cb3c-e7cc-445b-a72f-b6d646ed3cb5",
   "metadata": {
    "toc-hr-collapsed": true
   },
   "source": [
    "### 4. for np.log(y)~np.log(x)"
   ]
  },
  {
   "cell_type": "code",
   "execution_count": 36,
   "id": "22dfccb3-762f-4847-92a4-c58b914d0b24",
   "metadata": {},
   "outputs": [],
   "source": [
    "y = data.Salary\n",
    "x = data.YearsExperience\n"
   ]
  },
  {
   "cell_type": "code",
   "execution_count": 37,
   "id": "405c46b4-b3e3-4c0d-817b-a2e8cae358be",
   "metadata": {
    "colab": {},
    "colab_type": "code",
    "id": "0SO63uMnOAZc",
    "outputId": "d755b8ff-516d-45b1-aab6-6dbf24284151"
   },
   "outputs": [],
   "source": [
    "model = smf.ols('np.log(y)~np.log(x)',data = data).fit()"
   ]
  },
  {
   "cell_type": "code",
   "execution_count": 38,
   "id": "3c952d56-1212-4afc-8dad-acb0d34be42a",
   "metadata": {},
   "outputs": [
    {
     "data": {
      "image/png": "[encoded data removed]",
      "text/plain": [
       "<Figure size 432x288 with 1 Axes>"
      ]
     },
     "metadata": {
      "needs_background": "light"
     },
     "output_type": "display_data"
    }
   ],
   "source": [
    "sns.regplot(x=np.log(y), y=np.log(x), data=data,logx=True);"
   ]
  },
  {
   "cell_type": "code",
   "execution_count": 39,
   "id": "bc5af997-eef1-4034-9a4c-18196b34c2b2",
   "metadata": {},
   "outputs": [
    {
     "data": {
      "text/plain": [
       "Intercept    10.328043\n",
       "np.log(x)     0.562089\n",
       "dtype: float64"
      ]
     },
     "execution_count": 39,
     "metadata": {},
     "output_type": "execute_result"
    }
   ],
   "source": [
    "#Coefficients\n",
    "model.params"
   ]
  },
  {
   "cell_type": "code",
   "execution_count": 40,
   "id": "5b093ba0-2aab-47ab-aeea-7a2ab445644c",
   "metadata": {},
   "outputs": [
    {
     "name": "stdout",
     "output_type": "stream",
     "text": [
      "Intercept    184.867959\n",
      "np.log(x)     16.352542\n",
      "dtype: float64 \n",
      " Intercept    9.073132e-45\n",
      "np.log(x)    7.395278e-16\n",
      "dtype: float64\n"
     ]
    }
   ],
   "source": [
    "#t and p-Values\n",
    "\n",
    "print(model.tvalues, '\\n', model.pvalues) \n",
    "# pvalues for both intercept and y are less than 0.05"
   ]
  },
  {
   "cell_type": "code",
   "execution_count": 41,
   "id": "29004ffc-022e-4942-8f36-245ac65cc819",
   "metadata": {},
   "outputs": [
    {
     "data": {
      "text/plain": [
       "(0.9052150725817149, 0.9018298966024904)"
      ]
     },
     "execution_count": 41,
     "metadata": {},
     "output_type": "execute_result"
    }
   ],
   "source": [
    "#R squared values\n",
    "(model.rsquared,model.rsquared_adj)"
   ]
  },
  {
   "cell_type": "markdown",
   "id": "4d8c4fc9-862d-463e-9d08-003e4e27b174",
   "metadata": {
    "colab_type": "text",
    "id": "F2S7v7rdOAZf"
   },
   "source": [
    "#### Predict for original dataset"
   ]
  },
  {
   "cell_type": "code",
   "execution_count": 42,
   "id": "3a6c469f-2ef1-4f5d-9903-7bba50c714e4",
   "metadata": {
    "colab": {},
    "colab_type": "code",
    "id": "rqe52vmCOAZg",
    "outputId": "1578e5b2-5135-41d4-875a-e580cf87dc6b"
   },
   "outputs": [],
   "source": [
    "#Predict for the given dataset values of original dataset\n"
   ]
  },
  {
   "cell_type": "code",
   "execution_count": 43,
   "id": "51eb2fa3-40dd-45e0-9c78-3149ea8321d5",
   "metadata": {},
   "outputs": [
    {
     "data": {
      "text/plain": [
       "0      32261.052293\n",
       "1      35437.122429\n",
       "2      38405.293942\n",
       "3      45145.842502\n",
       "4      47630.388981\n",
       "5      55631.518478\n",
       "6      56701.779991\n",
       "7      58796.479782\n",
       "8      58796.479782\n",
       "9      63795.788170\n",
       "10     65711.741723\n",
       "11     66653.561692\n",
       "12     66653.561692\n",
       "13     67585.125762\n",
       "14     71215.679585\n",
       "15     74707.408671\n",
       "16     76406.350778\n",
       "17     78076.357099\n",
       "18     82927.671492\n",
       "19     83714.809188\n",
       "20     89816.499870\n",
       "21     92022.700793\n",
       "22     97714.345570\n",
       "23     99783.038699\n",
       "24    103158.601018\n",
       "25    105143.207648\n",
       "26    108387.620951\n",
       "27    109027.449995\n",
       "28    113427.055251\n",
       "29    114659.822462\n",
       "dtype: float64"
      ]
     },
     "execution_count": 43,
     "metadata": {},
     "output_type": "execute_result"
    }
   ],
   "source": [
    "np.exp(model.predict(data))\n",
    "# Predictions for input data = output very far from original data"
   ]
  },
  {
   "cell_type": "code",
   "execution_count": 45,
   "id": "d26c57c2-2c98-4271-aa4b-4355b5e18ad0",
   "metadata": {},
   "outputs": [
    {
     "data": {
      "image/png": "[encoded data removed]",
      "text/plain": [
       "<Figure size 432x288 with 1 Axes>"
      ]
     },
     "metadata": {
      "needs_background": "light"
     },
     "output_type": "display_data"
    }
   ],
   "source": [
    "# Comparing original Data's scatterplot with regressed model's scatterplot\n",
    "plt.scatter(data.Salary,data.YearsExperience)\n",
    "plt.scatter(np.exp(model.predict(data)),data.YearsExperience,marker='+')\n",
    "plt.show()"
   ]
  },
  {
   "cell_type": "markdown",
   "id": "45eab748-43d2-4380-ba5c-cbb74a53baaa",
   "metadata": {
    "toc-hr-collapsed": true
   },
   "source": [
    "### 5. for y~np.square(x)"
   ]
  },
  {
   "cell_type": "code",
   "execution_count": null,
   "id": "861be7ce-8b04-4fa3-bec7-7b3ed69a341b",
   "metadata": {},
   "outputs": [],
   "source": []
  },
  {
   "cell_type": "code",
   "execution_count": 46,
   "id": "e0ef40e8-ff3f-417f-b4e4-1ab245facd08",
   "metadata": {},
   "outputs": [],
   "source": [
    "y = data.Salary\n",
    "x = data.YearsExperience\n"
   ]
  },
  {
   "cell_type": "code",
   "execution_count": 47,
   "id": "a5b32100-873d-4114-a0fa-12428bc18cb4",
   "metadata": {
    "colab": {},
    "colab_type": "code",
    "id": "0SO63uMnOAZc",
    "outputId": "d755b8ff-516d-45b1-aab6-6dbf24284151"
   },
   "outputs": [],
   "source": [
    "model = smf.ols('y~np.square(x)',data = data).fit()"
   ]
  },
  {
   "cell_type": "code",
   "execution_count": 48,
   "id": "4b53d35b-3aef-4454-a4f8-d3e7ea9363e7",
   "metadata": {},
   "outputs": [
    {
     "data": {
      "image/png": "[encoded data removed]",
      "text/plain": [
       "<Figure size 432x288 with 1 Axes>"
      ]
     },
     "metadata": {
      "needs_background": "light"
     },
     "output_type": "display_data"
    }
   ],
   "source": [
    "sns.regplot(x=y, y=np.square(x), data=data,logx=True);"
   ]
  },
  {
   "cell_type": "code",
   "execution_count": 49,
   "id": "66f9379b-1212-49d9-ad42-f2cd947803f2",
   "metadata": {},
   "outputs": [
    {
     "data": {
      "text/plain": [
       "Intercept       48042.585515\n",
       "np.square(x)      776.318773\n",
       "dtype: float64"
      ]
     },
     "execution_count": 49,
     "metadata": {},
     "output_type": "execute_result"
    }
   ],
   "source": [
    "#Coefficients\n",
    "model.params"
   ]
  },
  {
   "cell_type": "code",
   "execution_count": 50,
   "id": "aa93cd31-79f3-4e35-af3d-6538d26a60e1",
   "metadata": {},
   "outputs": [
    {
     "name": "stdout",
     "output_type": "stream",
     "text": [
      "Intercept       21.973654\n",
      "np.square(x)    17.397015\n",
      "dtype: float64 \n",
      " Intercept       3.389190e-19\n",
      "np.square(x)    1.518127e-16\n",
      "dtype: float64\n"
     ]
    }
   ],
   "source": [
    "#t and p-Values\n",
    "\n",
    "print(model.tvalues, '\\n', model.pvalues) \n",
    "# pvalues for both intercept and y are less than 0.05"
   ]
  },
  {
   "cell_type": "code",
   "execution_count": 51,
   "id": "c62ba574-692e-4e8c-ae2f-881ceb910273",
   "metadata": {},
   "outputs": [
    {
     "data": {
      "text/plain": [
       "(0.9153198857852565, 0.9122955959918728)"
      ]
     },
     "execution_count": 51,
     "metadata": {},
     "output_type": "execute_result"
    }
   ],
   "source": [
    "#R squared values\n",
    "(model.rsquared,model.rsquared_adj)\n",
    "# r square values degrade as compared to y~x"
   ]
  },
  {
   "cell_type": "markdown",
   "id": "d9e80436-ba75-43a1-ad97-d26ff6d02585",
   "metadata": {
    "colab_type": "text",
    "id": "F2S7v7rdOAZf"
   },
   "source": [
    "#### Predict for original dataset"
   ]
  },
  {
   "cell_type": "code",
   "execution_count": 52,
   "id": "07e32fef-292d-47ce-a98e-ba9420e6ff77",
   "metadata": {
    "colab": {},
    "colab_type": "code",
    "id": "rqe52vmCOAZg",
    "outputId": "1578e5b2-5135-41d4-875a-e580cf87dc6b"
   },
   "outputs": [],
   "source": [
    "#Predict for the given dataset values of original dataset\n"
   ]
  },
  {
   "cell_type": "code",
   "execution_count": 53,
   "id": "fa438d69-253a-453e-9aa7-00f01ec2199d",
   "metadata": {},
   "outputs": [
    {
     "data": {
      "text/plain": [
       "0      48981.931230\n",
       "1      49354.564241\n",
       "2      49789.302755\n",
       "3      51147.860608\n",
       "4      51799.968377\n",
       "5      54571.426398\n",
       "6      55029.454474\n",
       "7      55992.089753\n",
       "8      55992.089753\n",
       "9      58670.389521\n",
       "10     59850.394057\n",
       "11     60463.685888\n",
       "12     60463.685888\n",
       "13     61092.504094\n",
       "14     63763.040674\n",
       "15     66681.999262\n",
       "16     68234.636808\n",
       "17     69849.379857\n",
       "18     75066.242014\n",
       "19     75990.061354\n",
       "20     83939.565592\n",
       "21     87176.814877\n",
       "22     96492.640157\n",
       "23    100242.259832\n",
       "24    106802.153466\n",
       "25    110924.406153\n",
       "26    118105.354806\n",
       "27    119588.123663\n",
       "28    130402.244175\n",
       "29    133631.730272\n",
       "dtype: float64"
      ]
     },
     "execution_count": 53,
     "metadata": {},
     "output_type": "execute_result"
    }
   ],
   "source": [
    "model.predict(data)\n",
    "# Predictions for input data"
   ]
  },
  {
   "cell_type": "code",
   "execution_count": 54,
   "id": "d554d49e-4130-417d-afa9-41f84fc288c7",
   "metadata": {},
   "outputs": [
    {
     "data": {
      "image/png": "[encoded data removed]",
      "text/plain": [
       "<Figure size 432x288 with 1 Axes>"
      ]
     },
     "metadata": {
      "needs_background": "light"
     },
     "output_type": "display_data"
    }
   ],
   "source": [
    "# Comparing original Data's scatterplot with regressed model's scatterplot\n",
    "plt.scatter(data.Salary,data.YearsExperience)\n",
    "plt.scatter(model.predict(data),data.YearsExperience,marker='+')\n",
    "plt.show()"
   ]
  },
  {
   "cell_type": "markdown",
   "id": "af3698e2-8465-44b7-af62-d17420e00e20",
   "metadata": {
    "toc-hr-collapsed": true
   },
   "source": [
    "### 6. for np.sq(y)~x"
   ]
  },
  {
   "cell_type": "code",
   "execution_count": null,
   "id": "b42ba67d-1d8f-4d4c-8613-248e31a60213",
   "metadata": {},
   "outputs": [],
   "source": []
  },
  {
   "cell_type": "code",
   "execution_count": 55,
   "id": "358159f4-bd3f-4338-a8b6-cfa2fd4d6904",
   "metadata": {},
   "outputs": [],
   "source": [
    "y = data.Salary\n",
    "x = data.YearsExperience\n"
   ]
  },
  {
   "cell_type": "code",
   "execution_count": 56,
   "id": "86d4eaaf-aac7-4c46-b58f-429d0d3e3fde",
   "metadata": {
    "colab": {},
    "colab_type": "code",
    "id": "0SO63uMnOAZc",
    "outputId": "d755b8ff-516d-45b1-aab6-6dbf24284151"
   },
   "outputs": [],
   "source": [
    "model = smf.ols('np.square(y)~x',data = data).fit()"
   ]
  },
  {
   "cell_type": "code",
   "execution_count": 57,
   "id": "201e536b-d729-4c47-9a53-241068da24f7",
   "metadata": {},
   "outputs": [
    {
     "data": {
      "image/png": "[encoded data removed]",
      "text/plain": [
       "<Figure size 432x288 with 1 Axes>"
      ]
     },
     "metadata": {
      "needs_background": "light"
     },
     "output_type": "display_data"
    }
   ],
   "source": [
    "sns.regplot(x=np.square(y), y=x, data=data);"
   ]
  },
  {
   "cell_type": "code",
   "execution_count": 58,
   "id": "59864167-364b-400d-b4ab-205e8d9492c3",
   "metadata": {},
   "outputs": [
    {
     "data": {
      "text/plain": [
       "Intercept   -1.609636e+09\n",
       "x            1.526836e+09\n",
       "dtype: float64"
      ]
     },
     "execution_count": 58,
     "metadata": {},
     "output_type": "execute_result"
    }
   ],
   "source": [
    "#Coefficients\n",
    "model.params"
   ]
  },
  {
   "cell_type": "code",
   "execution_count": 59,
   "id": "77114470-9e9f-42f1-aa52-f9e741713fb0",
   "metadata": {},
   "outputs": [
    {
     "name": "stdout",
     "output_type": "stream",
     "text": [
      "Intercept    -3.926574\n",
      "x            22.352727\n",
      "dtype: float64 \n",
      " Intercept    5.114661e-04\n",
      "x            2.152535e-19\n",
      "dtype: float64\n"
     ]
    }
   ],
   "source": [
    "#t and p-Values\n",
    "\n",
    "print(model.tvalues, '\\n', model.pvalues) \n",
    "# pvalues for intercept high and for less than 0.05"
   ]
  },
  {
   "cell_type": "code",
   "execution_count": 60,
   "id": "eafe2206-a35c-4268-a2fc-3b072c53d608",
   "metadata": {},
   "outputs": [
    {
     "data": {
      "text/plain": [
       "(0.946933959304622, 0.9450387435655013)"
      ]
     },
     "execution_count": 60,
     "metadata": {},
     "output_type": "execute_result"
    }
   ],
   "source": [
    "#R squared values\n",
    "(model.rsquared,model.rsquared_adj)"
   ]
  },
  {
   "cell_type": "markdown",
   "id": "8af6ba0a-92c9-48ca-b0b3-1db179433961",
   "metadata": {
    "colab_type": "text",
    "id": "F2S7v7rdOAZf"
   },
   "source": [
    "#### Predict for original dataset"
   ]
  },
  {
   "cell_type": "code",
   "execution_count": 61,
   "id": "c28ada64-c112-47a5-9d8a-af35fe325dd3",
   "metadata": {
    "colab": {},
    "colab_type": "code",
    "id": "rqe52vmCOAZg",
    "outputId": "1578e5b2-5135-41d4-875a-e580cf87dc6b"
   },
   "outputs": [],
   "source": [
    "#Predict for the given dataset values of original dataset\n"
   ]
  },
  {
   "cell_type": "code",
   "execution_count": 62,
   "id": "091a448a-fe3b-45f2-8693-13b016cb2481",
   "metadata": {},
   "outputs": [
    {
     "data": {
      "text/plain": [
       "0       8359.692806\n",
       "1      19371.415770\n",
       "2      26088.676357\n",
       "3      38000.490088\n",
       "4      41825.883518\n",
       "5      53086.627601\n",
       "6      54505.721467\n",
       "7      57238.456983\n",
       "8      57238.456983\n",
       "9      63558.313151\n",
       "10     65916.814666\n",
       "11     67064.969234\n",
       "12     67064.969234\n",
       "13     68193.795472\n",
       "14     72533.635723\n",
       "15     76628.081546\n",
       "16     78595.357157\n",
       "17     80514.579125\n",
       "18     86015.692215\n",
       "19     86898.693602\n",
       "20     93663.504580\n",
       "21     96077.588531\n",
       "22    102236.843450\n",
       "23    104452.970691\n",
       "24    108045.551963\n",
       "25    110144.869271\n",
       "26    113557.520401\n",
       "27    114227.816587\n",
       "28    118814.054641\n",
       "29    120092.243152\n",
       "dtype: float64"
      ]
     },
     "execution_count": 62,
     "metadata": {},
     "output_type": "execute_result"
    }
   ],
   "source": [
    "np.sqrt(model.predict(data))\n",
    "# Predictions for input data"
   ]
  },
  {
   "cell_type": "code",
   "execution_count": 63,
   "id": "606d4d18-664c-4fae-9feb-35f99ebcdf8e",
   "metadata": {},
   "outputs": [
    {
     "data": {
      "image/png": "[encoded data removed]",
      "text/plain": [
       "<Figure size 432x288 with 1 Axes>"
      ]
     },
     "metadata": {
      "needs_background": "light"
     },
     "output_type": "display_data"
    }
   ],
   "source": [
    "# Comparing original Data's scatterplot with regressed model's scatterplot\n",
    "plt.scatter(np.square(data.Salary),data.YearsExperience)\n",
    "plt.scatter(model.predict(data),data.YearsExperience,marker='+')\n",
    "plt.show()"
   ]
  },
  {
   "cell_type": "markdown",
   "id": "a1aa3005-9640-46c9-bbc6-9976a9716958",
   "metadata": {
    "toc-hr-collapsed": true
   },
   "source": [
    "### 7. for np.sq(y)~np.sq(x)"
   ]
  },
  {
   "cell_type": "code",
   "execution_count": null,
   "id": "69f58e36-1048-4279-ac48-6bf87b088bee",
   "metadata": {},
   "outputs": [],
   "source": []
  },
  {
   "cell_type": "code",
   "execution_count": 64,
   "id": "c6f43ad3-cc52-455f-8dd3-aabf96dd4e53",
   "metadata": {},
   "outputs": [],
   "source": [
    "y = data.Salary\n",
    "x = data.YearsExperience\n"
   ]
  },
  {
   "cell_type": "code",
   "execution_count": 65,
   "id": "a8e90f3d-a0eb-4101-b1ad-e71e73b4640b",
   "metadata": {
    "colab": {},
    "colab_type": "code",
    "id": "0SO63uMnOAZc",
    "outputId": "d755b8ff-516d-45b1-aab6-6dbf24284151"
   },
   "outputs": [],
   "source": [
    "model = smf.ols('np.square(y)~np.square(x)',data = data).fit()"
   ]
  },
  {
   "cell_type": "code",
   "execution_count": 66,
   "id": "7499b0cc-5d28-4774-b108-e4ac13556765",
   "metadata": {},
   "outputs": [
    {
     "data": {
      "image/png": "[encoded data removed]",
      "text/plain": [
       "<Figure size 432x288 with 1 Axes>"
      ]
     },
     "metadata": {
      "needs_background": "light"
     },
     "output_type": "display_data"
    }
   ],
   "source": [
    "sns.regplot(x=np.square(y), y=np.square(x), data=data,logx=True);"
   ]
  },
  {
   "cell_type": "code",
   "execution_count": 67,
   "id": "e1d36fa1-44d5-4578-a18a-0d64b28d559e",
   "metadata": {},
   "outputs": [
    {
     "data": {
      "text/plain": [
       "Intercept       1.866350e+09\n",
       "np.square(x)    1.287350e+08\n",
       "dtype: float64"
      ]
     },
     "execution_count": 67,
     "metadata": {},
     "output_type": "execute_result"
    }
   ],
   "source": [
    "#Coefficients\n",
    "model.params"
   ]
  },
  {
   "cell_type": "code",
   "execution_count": 68,
   "id": "1db47805-b7bf-4324-aef3-21e052360216",
   "metadata": {},
   "outputs": [
    {
     "name": "stdout",
     "output_type": "stream",
     "text": [
      "Intercept        7.137536\n",
      "np.square(x)    24.121846\n",
      "dtype: float64 \n",
      " Intercept       9.113094e-08\n",
      "np.square(x)    2.824566e-20\n",
      "dtype: float64\n"
     ]
    }
   ],
   "source": [
    "#t and p-Values\n",
    "\n",
    "print(model.tvalues, '\\n', model.pvalues) \n",
    "# pvalues for both intercept and y are less than 0.05"
   ]
  },
  {
   "cell_type": "code",
   "execution_count": 69,
   "id": "c5e9d77b-62b7-4ac9-86b8-316029a232c5",
   "metadata": {},
   "outputs": [
    {
     "data": {
      "text/plain": [
       "(0.9540880842110778, 0.9524483729329021)"
      ]
     },
     "execution_count": 69,
     "metadata": {},
     "output_type": "execute_result"
    }
   ],
   "source": [
    "#R squared values\n",
    "(model.rsquared,model.rsquared_adj)\n",
    "# r squared value goes further down"
   ]
  },
  {
   "cell_type": "markdown",
   "id": "8a1d5ac2-04fc-48cd-aa70-4c33af305316",
   "metadata": {
    "colab_type": "text",
    "id": "F2S7v7rdOAZf"
   },
   "source": [
    "#### Predict for original dataset"
   ]
  },
  {
   "cell_type": "code",
   "execution_count": 70,
   "id": "2dea0b4d-484f-44df-8c73-6022a4a63550",
   "metadata": {
    "colab": {},
    "colab_type": "code",
    "id": "rqe52vmCOAZg",
    "outputId": "1578e5b2-5135-41d4-875a-e580cf87dc6b"
   },
   "outputs": [],
   "source": [
    "#Predict for the given dataset values of original dataset\n"
   ]
  },
  {
   "cell_type": "code",
   "execution_count": 71,
   "id": "9f2c2703-b04e-455a-82b6-513979fafb99",
   "metadata": {},
   "outputs": [
    {
     "data": {
      "text/plain": [
       "0      44967.982095\n",
       "1      45649.887278\n",
       "2      46432.788010\n",
       "3      48798.463434\n",
       "4      49894.162228\n",
       "5      54304.800302\n",
       "6      54999.681631\n",
       "7      56432.228080\n",
       "8      56432.228080\n",
       "9      60238.958148\n",
       "10     61841.808369\n",
       "11     62658.677801\n",
       "12     62658.677801\n",
       "13     63485.315192\n",
       "14     66882.236863\n",
       "15     70407.933979\n",
       "16     72213.206172\n",
       "17     74044.013418\n",
       "18     79671.921343\n",
       "19     80627.598796\n",
       "20     88425.426077\n",
       "21     91410.507502\n",
       "22     99502.265060\n",
       "23    102579.192578\n",
       "24    107751.108619\n",
       "25    110877.789485\n",
       "26    116123.567165\n",
       "27    117177.500743\n",
       "28    124594.723323\n",
       "29    126725.619489\n",
       "dtype: float64"
      ]
     },
     "execution_count": 71,
     "metadata": {},
     "output_type": "execute_result"
    }
   ],
   "source": [
    "np.sqrt(model.predict(data))\n",
    "# Predictions for input data = output inconsistent"
   ]
  },
  {
   "cell_type": "code",
   "execution_count": 72,
   "id": "f27c31a8-aa85-4c37-9f53-f73b241ca256",
   "metadata": {},
   "outputs": [
    {
     "data": {
      "image/png": "[encoded data removed]",
      "text/plain": [
       "<Figure size 432x288 with 1 Axes>"
      ]
     },
     "metadata": {
      "needs_background": "light"
     },
     "output_type": "display_data"
    }
   ],
   "source": [
    "# Comparing original Data's scatterplot with regressed model's scatterplot\n",
    "plt.scatter(data.Salary,data.YearsExperience)\n",
    "plt.scatter(np.sqrt(model.predict(data)),data.YearsExperience,marker='+')\n",
    "plt.show()"
   ]
  },
  {
   "cell_type": "markdown",
   "id": "ed3839ab-e50d-4bf5-afd9-30e440bbc6a8",
   "metadata": {
    "toc-hr-collapsed": true
   },
   "source": [
    "### 8. for y~np.sqrt(x)"
   ]
  },
  {
   "cell_type": "code",
   "execution_count": null,
   "id": "2181db44-ffed-4d0f-9199-c48a5885ae5b",
   "metadata": {},
   "outputs": [],
   "source": []
  },
  {
   "cell_type": "code",
   "execution_count": 73,
   "id": "fe3d17f0-7509-46a1-bba4-a820ecbbd901",
   "metadata": {},
   "outputs": [],
   "source": [
    "y = data.Salary\n",
    "x = data.YearsExperience\n"
   ]
  },
  {
   "cell_type": "code",
   "execution_count": 74,
   "id": "b752dded-fb72-4a2b-a986-b39adcd84f4c",
   "metadata": {
    "colab": {},
    "colab_type": "code",
    "id": "0SO63uMnOAZc",
    "outputId": "d755b8ff-516d-45b1-aab6-6dbf24284151"
   },
   "outputs": [],
   "source": [
    "model = smf.ols('y~np.sqrt(x)',data = data).fit()"
   ]
  },
  {
   "cell_type": "code",
   "execution_count": 75,
   "id": "60380949-59a9-4168-b60a-b8e500ea086f",
   "metadata": {},
   "outputs": [
    {
     "data": {
      "image/png": "[encoded data removed]",
      "text/plain": [
       "<Figure size 432x288 with 1 Axes>"
      ]
     },
     "metadata": {
      "needs_background": "light"
     },
     "output_type": "display_data"
    }
   ],
   "source": [
    "sns.regplot(x=y, y=np.sqrt(x), data=data);"
   ]
  },
  {
   "cell_type": "code",
   "execution_count": 76,
   "id": "cd4daa57-07fc-4556-bc6c-e0587f0e4639",
   "metadata": {},
   "outputs": [
    {
     "data": {
      "text/plain": [
       "Intercept    -16055.769117\n",
       "np.sqrt(x)    41500.680583\n",
       "dtype: float64"
      ]
     },
     "execution_count": 76,
     "metadata": {},
     "output_type": "execute_result"
    }
   ],
   "source": [
    "#Coefficients\n",
    "model.params"
   ]
  },
  {
   "cell_type": "code",
   "execution_count": 77,
   "id": "f4214bd0-87f0-4604-b08b-0ca750d7c732",
   "metadata": {},
   "outputs": [
    {
     "name": "stdout",
     "output_type": "stream",
     "text": [
      "Intercept     -3.262308\n",
      "np.sqrt(x)    19.437148\n",
      "dtype: float64 \n",
      " Intercept     2.906965e-03\n",
      "np.sqrt(x)    8.565358e-18\n",
      "dtype: float64\n"
     ]
    }
   ],
   "source": [
    "#t and p-Values\n",
    "\n",
    "print(model.tvalues, '\\n', model.pvalues) \n",
    "# pvalues for intercept high and for y less than 0.05"
   ]
  },
  {
   "cell_type": "code",
   "execution_count": 78,
   "id": "4b2d1d2f-ba26-4d7f-8efc-6ca89c394849",
   "metadata": {},
   "outputs": [
    {
     "data": {
      "text/plain": [
       "(0.9310009544993526, 0.9285367028743294)"
      ]
     },
     "execution_count": 78,
     "metadata": {},
     "output_type": "execute_result"
    }
   ],
   "source": [
    "#R squared values\n",
    "(model.rsquared,model.rsquared_adj)"
   ]
  },
  {
   "cell_type": "markdown",
   "id": "86f983d6-4e45-4252-b9c2-7daa92d4d5b9",
   "metadata": {
    "colab_type": "text",
    "id": "F2S7v7rdOAZf"
   },
   "source": [
    "#### Predict for original dataset"
   ]
  },
  {
   "cell_type": "code",
   "execution_count": 79,
   "id": "07bbf31c-b70f-4998-bd40-fdd30abdcbba",
   "metadata": {
    "colab": {},
    "colab_type": "code",
    "id": "rqe52vmCOAZg",
    "outputId": "1578e5b2-5135-41d4-875a-e580cf87dc6b"
   },
   "outputs": [],
   "source": [
    "#Predict for the given dataset values of original dataset\n"
   ]
  },
  {
   "cell_type": "code",
   "execution_count": 80,
   "id": "0c407f52-c739-4860-95f3-ed853529af7e",
   "metadata": {},
   "outputs": [
    {
     "data": {
      "text/plain": [
       "0      27470.511884\n",
       "1      31262.287009\n",
       "2      34771.976586\n",
       "3      42635.056211\n",
       "4      45499.687794\n",
       "5      54617.343293\n",
       "6      55825.518202\n",
       "7      58182.905200\n",
       "8      58182.905200\n",
       "9      63772.383867\n",
       "10     65901.508208\n",
       "11     66945.592049\n",
       "12     66945.592049\n",
       "13     67976.704394\n",
       "14     71980.468875\n",
       "15     75809.903446\n",
       "16     77665.963118\n",
       "17     79485.972499\n",
       "18     84749.033766\n",
       "19     85599.722290\n",
       "20     92164.765553\n",
       "21     94526.218887\n",
       "22    100589.939171\n",
       "23    102784.094601\n",
       "24    106353.652306\n",
       "25    108446.272632\n",
       "26    111857.919142\n",
       "27    112529.386687\n",
       "28    117134.909368\n",
       "29    118421.805716\n",
       "dtype: float64"
      ]
     },
     "execution_count": 80,
     "metadata": {},
     "output_type": "execute_result"
    }
   ],
   "source": [
    "model.predict(data)\n",
    "# Predictions for input data"
   ]
  },
  {
   "cell_type": "code",
   "execution_count": 81,
   "id": "c9a712a5-d58e-45b8-9e10-f561ef02eb03",
   "metadata": {},
   "outputs": [
    {
     "data": {
      "image/png": "[encoded data removed]",
      "text/plain": [
       "<Figure size 432x288 with 1 Axes>"
      ]
     },
     "metadata": {
      "needs_background": "light"
     },
     "output_type": "display_data"
    }
   ],
   "source": [
    "# Comparing original Data's scatterplot with regressed model's scatterplot\n",
    "plt.scatter(data.Salary,data.YearsExperience)\n",
    "plt.scatter(model.predict(data),data.YearsExperience,marker='+')\n",
    "plt.show()"
   ]
  },
  {
   "cell_type": "markdown",
   "id": "b858e0cf-46f0-40a6-a4d1-a779c2eee7e0",
   "metadata": {
    "toc-hr-collapsed": true
   },
   "source": [
    "### 9. for np.sqrt(y)~x"
   ]
  },
  {
   "cell_type": "code",
   "execution_count": 82,
   "id": "2b90a4bf-43da-4704-85b6-c84857de0fe7",
   "metadata": {},
   "outputs": [],
   "source": [
    "y = data.Salary\n",
    "x = data.YearsExperience\n"
   ]
  },
  {
   "cell_type": "code",
   "execution_count": 83,
   "id": "0caab047-2758-4e01-9fda-ab42b8c6eb17",
   "metadata": {
    "colab": {},
    "colab_type": "code",
    "id": "0SO63uMnOAZc",
    "outputId": "d755b8ff-516d-45b1-aab6-6dbf24284151"
   },
   "outputs": [],
   "source": [
    "model = smf.ols('np.sqrt(y)~x',data = data).fit()"
   ]
  },
  {
   "cell_type": "code",
   "execution_count": 84,
   "id": "83dc29ab-f748-4edf-8b47-6d1c4418c0ab",
   "metadata": {},
   "outputs": [
    {
     "data": {
      "image/png": "[encoded data removed]",
      "text/plain": [
       "<Figure size 432x288 with 1 Axes>"
      ]
     },
     "metadata": {
      "needs_background": "light"
     },
     "output_type": "display_data"
    }
   ],
   "source": [
    "sns.regplot(x=np.sqrt(y), y=x, data=data);"
   ]
  },
  {
   "cell_type": "code",
   "execution_count": 85,
   "id": "a26f2cfc-fed0-4462-b771-d9b512aaf776",
   "metadata": {},
   "outputs": [
    {
     "data": {
      "text/plain": [
       "Intercept    180.700221\n",
       "x             17.056532\n",
       "dtype: float64"
      ]
     },
     "execution_count": 85,
     "metadata": {},
     "output_type": "execute_result"
    }
   ],
   "source": [
    "#Coefficients\n",
    "model.params"
   ]
  },
  {
   "cell_type": "code",
   "execution_count": 86,
   "id": "5e10bd9c-deb5-4275-b22c-fc54c5ffea96",
   "metadata": {},
   "outputs": [
    {
     "name": "stdout",
     "output_type": "stream",
     "text": [
      "Intercept    40.646251\n",
      "x            23.025247\n",
      "dtype: float64 \n",
      " Intercept    1.920194e-26\n",
      "x            9.782891e-20\n",
      "dtype: float64\n"
     ]
    }
   ],
   "source": [
    "#t and p-Values\n",
    "\n",
    "print(model.tvalues, '\\n', model.pvalues) \n",
    "# pvalues for both intercept and y are less than 0.05"
   ]
  },
  {
   "cell_type": "code",
   "execution_count": 87,
   "id": "c94e2d44-6276-4288-b423-53bd40efbd5b",
   "metadata": {},
   "outputs": [
    {
     "data": {
      "text/plain": [
       "(0.9498353533865289, 0.9480437588646192)"
      ]
     },
     "execution_count": 87,
     "metadata": {},
     "output_type": "execute_result"
    }
   ],
   "source": [
    "#R squared values\n",
    "(model.rsquared,model.rsquared_adj)"
   ]
  },
  {
   "cell_type": "markdown",
   "id": "f8faf3a2-b673-4e74-999c-cb03d93ebf8f",
   "metadata": {
    "colab_type": "text",
    "id": "F2S7v7rdOAZf"
   },
   "source": [
    "#### Predict for original dataset"
   ]
  },
  {
   "cell_type": "code",
   "execution_count": 88,
   "id": "181f25fc-40ee-4b1b-a5b8-e789fd3912c8",
   "metadata": {
    "colab": {},
    "colab_type": "code",
    "id": "rqe52vmCOAZg",
    "outputId": "1578e5b2-5135-41d4-875a-e580cf87dc6b"
   },
   "outputs": [],
   "source": [
    "#Predict for the given dataset values of original dataset\n"
   ]
  },
  {
   "cell_type": "code",
   "execution_count": 89,
   "id": "b35be341-bac4-470a-ba0e-d606114a1d0e",
   "metadata": {},
   "outputs": [
    {
     "data": {
      "text/plain": [
       "0      39785.251671\n",
       "1      41157.743455\n",
       "2      42553.509262\n",
       "3      46144.747630\n",
       "4      47621.972517\n",
       "5      52975.542551\n",
       "6      53763.612294\n",
       "7      55357.207295\n",
       "8      55357.207295\n",
       "9      59443.018648\n",
       "10     61118.072729\n",
       "11     61964.327528\n",
       "12     61964.327528\n",
       "13     62816.400833\n",
       "14     66282.879110\n",
       "15     69842.453478\n",
       "16     71657.151696\n",
       "17     73495.123938\n",
       "18     79148.684798\n",
       "19     80111.309712\n",
       "20     88021.775225\n",
       "21     91084.205136\n",
       "22     99506.699152\n",
       "23    102761.139752\n",
       "24    108301.577533\n",
       "25    111695.662270\n",
       "26    117468.840280\n",
       "27    118640.931399\n",
       "28    127008.487392\n",
       "29    129451.584227\n",
       "dtype: float64"
      ]
     },
     "execution_count": 89,
     "metadata": {},
     "output_type": "execute_result"
    }
   ],
   "source": [
    "np.square(model.predict(data))\n",
    "# Predictions for input data but output inconsistent with original data"
   ]
  },
  {
   "cell_type": "code",
   "execution_count": 90,
   "id": "5e841ca4-8219-4a2f-a741-21ae631100cd",
   "metadata": {},
   "outputs": [
    {
     "data": {
      "image/png": "[encoded data removed]",
      "text/plain": [
       "<Figure size 432x288 with 1 Axes>"
      ]
     },
     "metadata": {
      "needs_background": "light"
     },
     "output_type": "display_data"
    }
   ],
   "source": [
    "# Comparing original Data's scatterplot with regressed model's scatterplot\n",
    "plt.scatter(data.Salary,data.YearsExperience)\n",
    "plt.scatter(np.square(model.predict(data)),data.YearsExperience,marker='+')\n",
    "plt.show()"
   ]
  },
  {
   "cell_type": "markdown",
   "id": "02a9c35c-50f8-4b32-a3a7-16980572d5de",
   "metadata": {
    "toc-hr-collapsed": true
   },
   "source": [
    "### 10. for np.sqrt(y)~np.sqrt(x)"
   ]
  },
  {
   "cell_type": "code",
   "execution_count": 91,
   "id": "a7aac7de-5a09-4ddc-99c4-8e486d1c8e71",
   "metadata": {},
   "outputs": [],
   "source": [
    "y = data.Salary\n",
    "x = data.YearsExperience\n"
   ]
  },
  {
   "cell_type": "code",
   "execution_count": 92,
   "id": "10a9c6a7-16f2-4c62-b96b-15acf6e85425",
   "metadata": {
    "colab": {},
    "colab_type": "code",
    "id": "0SO63uMnOAZc",
    "outputId": "d755b8ff-516d-45b1-aab6-6dbf24284151"
   },
   "outputs": [],
   "source": [
    "model = smf.ols('np.sqrt(y)~np.sqrt(x)',data = data).fit()"
   ]
  },
  {
   "cell_type": "code",
   "execution_count": 93,
   "id": "ae83cc46-7ca2-47de-9d27-0e427d016d0e",
   "metadata": {},
   "outputs": [
    {
     "data": {
      "image/png": "[encoded data removed]",
      "text/plain": [
       "<Figure size 432x288 with 1 Axes>"
      ]
     },
     "metadata": {
      "needs_background": "light"
     },
     "output_type": "display_data"
    }
   ],
   "source": [
    "sns.regplot(x=np.sqrt(y), y=np.sqrt(x), data=data);"
   ]
  },
  {
   "cell_type": "code",
   "execution_count": 94,
   "id": "3707982f-8e4a-4ab9-9219-ba8daca6cca0",
   "metadata": {},
   "outputs": [
    {
     "data": {
      "text/plain": [
       "Intercept     103.568031\n",
       "np.sqrt(x)     75.626932\n",
       "dtype: float64"
      ]
     },
     "execution_count": 94,
     "metadata": {},
     "output_type": "execute_result"
    }
   ],
   "source": [
    "#Coefficients\n",
    "model.params"
   ]
  },
  {
   "cell_type": "code",
   "execution_count": 95,
   "id": "d13b94e6-cbc0-4694-977e-a73eeebd5f50",
   "metadata": {},
   "outputs": [
    {
     "name": "stdout",
     "output_type": "stream",
     "text": [
      "Intercept     12.663496\n",
      "np.sqrt(x)    21.315126\n",
      "dtype: float64 \n",
      " Intercept     4.141645e-13\n",
      "np.sqrt(x)    7.584326e-19\n",
      "dtype: float64\n"
     ]
    }
   ],
   "source": [
    "#t and p-Values\n",
    "\n",
    "print(model.tvalues, '\\n', model.pvalues) \n",
    "# pvalues for both intercept and y are less than 0.05"
   ]
  },
  {
   "cell_type": "code",
   "execution_count": 96,
   "id": "7be81baa-8bc6-4ead-8b32-59ce729f6380",
   "metadata": {},
   "outputs": [
    {
     "data": {
      "text/plain": [
       "(0.9419490138976825, 0.9398757643940283)"
      ]
     },
     "execution_count": 96,
     "metadata": {},
     "output_type": "execute_result"
    }
   ],
   "source": [
    "#R squared values\n",
    "(model.rsquared,model.rsquared_adj)"
   ]
  },
  {
   "cell_type": "markdown",
   "id": "6767047d-8bad-4f53-832e-a76d95ac3ce4",
   "metadata": {
    "colab_type": "text",
    "id": "F2S7v7rdOAZf"
   },
   "source": [
    "#### Predict for original dataset"
   ]
  },
  {
   "cell_type": "code",
   "execution_count": 97,
   "id": "fb03a208-539f-464f-8a99-a9b984a653e2",
   "metadata": {
    "colab": {},
    "colab_type": "code",
    "id": "rqe52vmCOAZg",
    "outputId": "1578e5b2-5135-41d4-875a-e580cf87dc6b"
   },
   "outputs": [],
   "source": [
    "#Predict for the given dataset values of original dataset\n"
   ]
  },
  {
   "cell_type": "code",
   "execution_count": 98,
   "id": "d68c5974-0932-44a5-89d3-261854df224e",
   "metadata": {},
   "outputs": [
    {
     "data": {
      "text/plain": [
       "0      33447.371655\n",
       "1      36022.521569\n",
       "2      38491.193991\n",
       "3      44318.949727\n",
       "4      46544.135171\n",
       "5      53989.336270\n",
       "6      55017.323598\n",
       "7      57051.041838\n",
       "8      57051.041838\n",
       "9      62020.592218\n",
       "10     63968.149237\n",
       "11     64934.197889\n",
       "12     64934.197889\n",
       "13     65895.350251\n",
       "14     69694.405347\n",
       "15     73427.656958\n",
       "16     75272.141554\n",
       "17     77103.018416\n",
       "18     82521.300854\n",
       "19     83414.349494\n",
       "20     90467.971458\n",
       "21     93075.167881\n",
       "22     99939.557841\n",
       "23    102483.605120\n",
       "24    106690.705528\n",
       "25    109196.426832\n",
       "26    113343.921252\n",
       "27    114169.320200\n",
       "28    119911.347953\n",
       "29    121540.993172\n",
       "dtype: float64"
      ]
     },
     "execution_count": 98,
     "metadata": {},
     "output_type": "execute_result"
    }
   ],
   "source": [
    "np.square(model.predict(data))\n",
    "# Predictions for input data"
   ]
  },
  {
   "cell_type": "code",
   "execution_count": 99,
   "id": "95655474-c9be-4a1a-8d77-3e7938c4424c",
   "metadata": {},
   "outputs": [
    {
     "data": {
      "image/png": "[encoded data removed]",
      "text/plain": [
       "<Figure size 432x288 with 1 Axes>"
      ]
     },
     "metadata": {
      "needs_background": "light"
     },
     "output_type": "display_data"
    }
   ],
   "source": [
    "# Comparing original Data's scatterplot with regressed model's scatterplot\n",
    "plt.scatter(data.Salary,data.YearsExperience)\n",
    "plt.scatter(np.square(model.predict(data)),data.YearsExperience,marker='+')\n",
    "plt.show()"
   ]
  },
  {
   "cell_type": "code",
   "execution_count": null,
   "id": "5146db24-67ce-438d-a904-6fa46f21207e",
   "metadata": {},
   "outputs": [],
   "source": []
  },
  {
   "cell_type": "markdown",
   "id": "19693d8b-b1c2-401a-b907-516cfd3116b8",
   "metadata": {
    "toc-hr-collapsed": true
   },
   "source": [
    "### 11. for y~np.power(x,3)"
   ]
  },
  {
   "cell_type": "code",
   "execution_count": 100,
   "id": "6120f367-6a7a-43eb-a98d-57d104418652",
   "metadata": {},
   "outputs": [],
   "source": [
    "y = data.Salary\n",
    "x = data.YearsExperience\n"
   ]
  },
  {
   "cell_type": "code",
   "execution_count": 101,
   "id": "75e82b5d-77b7-4f3f-91aa-af41b7389f71",
   "metadata": {
    "colab": {},
    "colab_type": "code",
    "id": "0SO63uMnOAZc",
    "outputId": "d755b8ff-516d-45b1-aab6-6dbf24284151"
   },
   "outputs": [],
   "source": [
    "model = smf.ols('y~np.power(x,3)',data = data).fit()"
   ]
  },
  {
   "cell_type": "code",
   "execution_count": 102,
   "id": "7f26e7c8-ee80-4dcb-8acd-1d082a33441d",
   "metadata": {},
   "outputs": [
    {
     "data": {
      "image/png": "[encoded data removed]",
      "text/plain": [
       "<Figure size 432x288 with 1 Axes>"
      ]
     },
     "metadata": {
      "needs_background": "light"
     },
     "output_type": "display_data"
    }
   ],
   "source": [
    "sns.regplot(x=y, y=np.power(x,3), data=data);"
   ]
  },
  {
   "cell_type": "code",
   "execution_count": 103,
   "id": "6a1bd38b-e475-4031-ad1e-9d68bb368598",
   "metadata": {},
   "outputs": [
    {
     "data": {
      "text/plain": [
       "Intercept         55911.623915\n",
       "np.power(x, 3)       71.264833\n",
       "dtype: float64"
      ]
     },
     "execution_count": 103,
     "metadata": {},
     "output_type": "execute_result"
    }
   ],
   "source": [
    "#Coefficients\n",
    "model.params"
   ]
  },
  {
   "cell_type": "code",
   "execution_count": 104,
   "id": "62ce9388-d090-46c1-94aa-f1d788572c69",
   "metadata": {},
   "outputs": [
    {
     "name": "stdout",
     "output_type": "stream",
     "text": [
      "Intercept         20.887108\n",
      "np.power(x, 3)    11.870804\n",
      "dtype: float64 \n",
      " Intercept         1.295610e-18\n",
      "np.power(x, 3)    1.922328e-12\n",
      "dtype: float64\n"
     ]
    }
   ],
   "source": [
    "#t and p-Values\n",
    "\n",
    "print(model.tvalues, '\\n', model.pvalues) \n",
    "# pvalues for both intercept and y are less than 0.05"
   ]
  },
  {
   "cell_type": "code",
   "execution_count": 105,
   "id": "bfe4ecf6-0e4a-468f-bc16-f7f8da732566",
   "metadata": {},
   "outputs": [
    {
     "data": {
      "text/plain": [
       "(0.8342371274125908, 0.8283170248201833)"
      ]
     },
     "execution_count": 105,
     "metadata": {},
     "output_type": "execute_result"
    }
   ],
   "source": [
    "#R squared values\n",
    "(model.rsquared,model.rsquared_adj)"
   ]
  },
  {
   "cell_type": "markdown",
   "id": "34b0562f-34b6-488e-a039-e4ce3f2c1217",
   "metadata": {
    "colab_type": "text",
    "id": "F2S7v7rdOAZf"
   },
   "source": [
    "#### Predict for original dataset"
   ]
  },
  {
   "cell_type": "code",
   "execution_count": 106,
   "id": "b0ce8083-e3c7-466e-8f8b-037dae07c34a",
   "metadata": {
    "colab": {},
    "colab_type": "code",
    "id": "rqe52vmCOAZg",
    "outputId": "1578e5b2-5135-41d4-875a-e580cf87dc6b"
   },
   "outputs": [],
   "source": [
    "#Predict for the given dataset values of original dataset\n"
   ]
  },
  {
   "cell_type": "code",
   "execution_count": 107,
   "id": "d2dac19b-5836-4968-b001-23f1511e87df",
   "metadata": {},
   "outputs": [
    {
     "data": {
      "text/plain": [
       "0      56006.477408\n",
       "1      56068.192753\n",
       "2      56152.142727\n",
       "3      56481.742580\n",
       "4      56670.451858\n",
       "5      57649.701930\n",
       "6      57835.774409\n",
       "7      58246.829967\n",
       "8      58246.829967\n",
       "9      59521.401507\n",
       "10     60138.982551\n",
       "11     60472.573235\n",
       "12     60472.573235\n",
       "13     60823.267478\n",
       "14     62405.631833\n",
       "15     64295.860267\n",
       "16     65364.975293\n",
       "17     66521.318475\n",
       "18     70547.924076\n",
       "19     71304.827869\n",
       "20     78319.567922\n",
       "21     81418.091601\n",
       "22     91047.965971\n",
       "23     95204.772422\n",
       "24    102839.730318\n",
       "25    107863.687259\n",
       "26    117012.310210\n",
       "27    118962.187309\n",
       "28    133784.631214\n",
       "29    138409.576354\n",
       "dtype: float64"
      ]
     },
     "execution_count": 107,
     "metadata": {},
     "output_type": "execute_result"
    }
   ],
   "source": [
    "model.predict(data)\n",
    "# Predictions for input data"
   ]
  },
  {
   "cell_type": "code",
   "execution_count": 108,
   "id": "41bb58ae-23fd-414f-9352-b1133784d0cb",
   "metadata": {},
   "outputs": [
    {
     "data": {
      "image/png": "[encoded data removed]",
      "text/plain": [
       "<Figure size 432x288 with 1 Axes>"
      ]
     },
     "metadata": {
      "needs_background": "light"
     },
     "output_type": "display_data"
    }
   ],
   "source": [
    "# Comparing original Data's scatterplot with regressed model's scatterplot\n",
    "plt.scatter(data.Salary,data.YearsExperience)\n",
    "plt.scatter((model.predict(data)),data.YearsExperience,marker='+')\n",
    "plt.show()"
   ]
  },
  {
   "cell_type": "code",
   "execution_count": null,
   "id": "af51d48f-5974-4ac9-92e8-443b44d6039e",
   "metadata": {},
   "outputs": [],
   "source": []
  },
  {
   "cell_type": "markdown",
   "id": "34fbd320-f880-4ec0-b8ab-1dfff9c724f5",
   "metadata": {
    "toc-hr-collapsed": true
   },
   "source": [
    "### 12. for np.power(y,3)~x"
   ]
  },
  {
   "cell_type": "code",
   "execution_count": 117,
   "id": "64a148f5-9b47-4276-9847-4ce66c6ab83c",
   "metadata": {},
   "outputs": [],
   "source": [
    "y = data.Salary\n",
    "x = data.YearsExperience\n"
   ]
  },
  {
   "cell_type": "code",
   "execution_count": 118,
   "id": "525148f2-c5f0-44f1-8ed6-1c2aaf4a17ca",
   "metadata": {
    "colab": {},
    "colab_type": "code",
    "id": "0SO63uMnOAZc",
    "outputId": "d755b8ff-516d-45b1-aab6-6dbf24284151"
   },
   "outputs": [],
   "source": [
    "model = smf.ols('np.power(y,3)~x',data = data).fit()"
   ]
  },
  {
   "cell_type": "code",
   "execution_count": 119,
   "id": "08a5b194-abd3-44d4-b7d5-f19bd4e67ffc",
   "metadata": {},
   "outputs": [
    {
     "data": {
      "image/png": "[encoded data removed]",
      "text/plain": [
       "<Figure size 432x288 with 1 Axes>"
      ]
     },
     "metadata": {
      "needs_background": "light"
     },
     "output_type": "display_data"
    }
   ],
   "source": [
    "sns.regplot(x=np.power(y,3), y=x, data=data);"
   ]
  },
  {
   "cell_type": "code",
   "execution_count": 120,
   "id": "13510ad6-aca9-46ec-baf2-49b1fcb14a9b",
   "metadata": {},
   "outputs": [
    {
     "data": {
      "text/plain": [
       "Intercept   -4.327463e+14\n",
       "x            1.964878e+14\n",
       "dtype: float64"
      ]
     },
     "execution_count": 120,
     "metadata": {},
     "output_type": "execute_result"
    }
   ],
   "source": [
    "#Coefficients\n",
    "model.params"
   ]
  },
  {
   "cell_type": "code",
   "execution_count": 121,
   "id": "73e0bfe2-f4e3-4f9a-9eeb-dd2e800426ab",
   "metadata": {},
   "outputs": [
    {
     "name": "stdout",
     "output_type": "stream",
     "text": [
      "Intercept    -6.475932\n",
      "x            17.646409\n",
      "dtype: float64 \n",
      " Intercept    5.135483e-07\n",
      "x            1.052473e-16\n",
      "dtype: float64\n"
     ]
    }
   ],
   "source": [
    "#t and p-Values\n",
    "\n",
    "print(model.tvalues, '\\n', model.pvalues) \n",
    "# pvalues for both intercept and y are less than 0.05"
   ]
  },
  {
   "cell_type": "code",
   "execution_count": 122,
   "id": "69b18c0d-cddd-4567-8bf6-243a1041879d",
   "metadata": {},
   "outputs": [
    {
     "data": {
      "text/plain": [
       "(0.9175004408289745, 0.9145540280014379)"
      ]
     },
     "execution_count": 122,
     "metadata": {},
     "output_type": "execute_result"
    }
   ],
   "source": [
    "#R squared values\n",
    "(model.rsquared,model.rsquared_adj)"
   ]
  },
  {
   "cell_type": "markdown",
   "id": "11e0caf2-8c5a-4df5-a1b6-ff98c861825c",
   "metadata": {
    "colab_type": "text",
    "id": "F2S7v7rdOAZf"
   },
   "source": [
    "#### Predict for original dataset"
   ]
  },
  {
   "cell_type": "code",
   "execution_count": 123,
   "id": "58b78bcc-0bda-44fd-858c-d5c52408de7e",
   "metadata": {
    "colab": {},
    "colab_type": "code",
    "id": "rqe52vmCOAZg",
    "outputId": "1578e5b2-5135-41d4-875a-e580cf87dc6b"
   },
   "outputs": [],
   "source": [
    "#Predict for the given dataset values of original dataset\n"
   ]
  },
  {
   "cell_type": "code",
   "execution_count": 124,
   "id": "87183638-1c43-4955-a858-62bf9396817a",
   "metadata": {},
   "outputs": [
    {
     "data": {
      "text/plain": [
       "0     -60056.399416\n",
       "1     -56179.707720\n",
       "2     -51678.309464\n",
       "3     -34134.028219\n",
       "4      -7791.925093\n",
       "5      51559.944943\n",
       "6      53914.494280\n",
       "7      58089.313903\n",
       "8      58089.313903\n",
       "9      66513.492035\n",
       "10     69351.578203\n",
       "11     70687.444717\n",
       "12     70687.444717\n",
       "13     71974.642980\n",
       "14     76713.100915\n",
       "15     80928.965104\n",
       "16     82881.507543\n",
       "17     84746.148080\n",
       "18     89898.316033\n",
       "19     90701.540108\n",
       "20     96669.328276\n",
       "21     98727.792156\n",
       "22    103834.658345\n",
       "23    105626.006869\n",
       "24    108483.253330\n",
       "25    110127.788833\n",
       "26    112764.330875\n",
       "27    113277.071407\n",
       "28    116742.910729\n",
       "29    117696.237334\n",
       "dtype: float64"
      ]
     },
     "execution_count": 124,
     "metadata": {},
     "output_type": "execute_result"
    }
   ],
   "source": [
    "np.cbrt(model.predict(data))\n",
    "# Predictions for input data"
   ]
  },
  {
   "cell_type": "code",
   "execution_count": 125,
   "id": "31f5b292-a5ac-4c52-b41a-e62345c9b2e4",
   "metadata": {},
   "outputs": [
    {
     "data": {
      "image/png": "[encoded data removed]",
      "text/plain": [
       "<Figure size 432x288 with 1 Axes>"
      ]
     },
     "metadata": {
      "needs_background": "light"
     },
     "output_type": "display_data"
    }
   ],
   "source": [
    "# Comparing original Data's scatterplot with regressed model's scatterplot\n",
    "plt.scatter(data.Salary,data.YearsExperience)\n",
    "plt.scatter(np.cbrt(model.predict(data)),data.YearsExperience,marker='+')\n",
    "plt.show()"
   ]
  },
  {
   "cell_type": "code",
   "execution_count": null,
   "id": "d8f4475e-f963-401a-9c74-7bd736e8e2bc",
   "metadata": {},
   "outputs": [],
   "source": []
  },
  {
   "cell_type": "markdown",
   "id": "c8c0e115-129e-4e36-af27-7801c6d878b9",
   "metadata": {
    "toc-hr-collapsed": true
   },
   "source": [
    "### 13. for np.power(y,3)~np.power(x,3)"
   ]
  },
  {
   "cell_type": "code",
   "execution_count": 126,
   "id": "75e099f2-b9a4-4b14-a3f7-6aaedb5501b8",
   "metadata": {},
   "outputs": [],
   "source": [
    "y = data.Salary\n",
    "x = data.YearsExperience\n"
   ]
  },
  {
   "cell_type": "code",
   "execution_count": 127,
   "id": "943f8c97-272e-477d-92a0-76dd1ae8dbb8",
   "metadata": {
    "colab": {},
    "colab_type": "code",
    "id": "0SO63uMnOAZc",
    "outputId": "d755b8ff-516d-45b1-aab6-6dbf24284151"
   },
   "outputs": [],
   "source": [
    "model = smf.ols('np.power(y,3)~np.power(x,3)',data = data).fit()"
   ]
  },
  {
   "cell_type": "code",
   "execution_count": 128,
   "id": "88257161-4997-4163-97f8-291f3053668b",
   "metadata": {},
   "outputs": [
    {
     "data": {
      "image/png": "[encoded data removed]",
      "text/plain": [
       "<Figure size 432x288 with 1 Axes>"
      ]
     },
     "metadata": {
      "needs_background": "light"
     },
     "output_type": "display_data"
    }
   ],
   "source": [
    "sns.regplot(x=np.power(y,3), y=np.power(x,3), data=data);"
   ]
  },
  {
   "cell_type": "code",
   "execution_count": 129,
   "id": "5ca61bbd-cc26-4981-87f2-2b7b3fa7285e",
   "metadata": {},
   "outputs": [
    {
     "data": {
      "text/plain": [
       "Intercept         1.583456e+14\n",
       "np.power(x, 3)    1.606500e+12\n",
       "dtype: float64"
      ]
     },
     "execution_count": 129,
     "metadata": {},
     "output_type": "execute_result"
    }
   ],
   "source": [
    "#Coefficients\n",
    "model.params"
   ]
  },
  {
   "cell_type": "code",
   "execution_count": 130,
   "id": "35d1a1f9-d3d7-4158-9c47-acc4ee107391",
   "metadata": {},
   "outputs": [
    {
     "name": "stdout",
     "output_type": "stream",
     "text": [
      "Intercept          4.636538\n",
      "np.power(x, 3)    20.974769\n",
      "dtype: float64 \n",
      " Intercept         7.488319e-05\n",
      "np.power(x, 3)    1.160122e-18\n",
      "dtype: float64\n"
     ]
    }
   ],
   "source": [
    "#t and p-Values\n",
    "\n",
    "print(model.tvalues, '\\n', model.pvalues) \n",
    "# pvalues for both intercept and y are less than 0.05"
   ]
  },
  {
   "cell_type": "code",
   "execution_count": 131,
   "id": "987a33e4-b27d-45f9-a096-88ee0fa18e85",
   "metadata": {},
   "outputs": [
    {
     "data": {
      "text/plain": [
       "(0.9401633889252157, 0.9380263671011162)"
      ]
     },
     "execution_count": 131,
     "metadata": {},
     "output_type": "execute_result"
    }
   ],
   "source": [
    "#R squared values\n",
    "(model.rsquared,model.rsquared_adj)"
   ]
  },
  {
   "cell_type": "markdown",
   "id": "d87cb87e-2cdd-481b-b1ca-8c81aec91a88",
   "metadata": {
    "colab_type": "text",
    "id": "F2S7v7rdOAZf"
   },
   "source": [
    "#### Predict for original dataset"
   ]
  },
  {
   "cell_type": "code",
   "execution_count": 132,
   "id": "875375d4-c1ae-448f-a791-8d7352896a16",
   "metadata": {
    "colab": {},
    "colab_type": "code",
    "id": "rqe52vmCOAZg",
    "outputId": "1578e5b2-5135-41d4-875a-e580cf87dc6b"
   },
   "outputs": [],
   "source": [
    "#Predict for the given dataset values of original dataset\n"
   ]
  },
  {
   "cell_type": "code",
   "execution_count": 133,
   "id": "31aa876e-554e-4185-bfb4-fd33591c04c2",
   "metadata": {},
   "outputs": [
    {
     "data": {
      "text/plain": [
       "0      54343.024451\n",
       "1      54499.605436\n",
       "2      54711.165303\n",
       "3      55526.365633\n",
       "4      55982.524429\n",
       "5      58238.274480\n",
       "6      58647.629666\n",
       "7      59532.235184\n",
       "8      59532.235184\n",
       "9      62120.445349\n",
       "10     63300.454905\n",
       "11     63919.954621\n",
       "12     63919.954621\n",
       "13     64558.524597\n",
       "14     67293.871112\n",
       "15     70294.592054\n",
       "16     71884.167359\n",
       "17     73527.827384\n",
       "18     78745.374897\n",
       "19     79652.116511\n",
       "20     87218.662268\n",
       "21     90177.824127\n",
       "22     98318.994170\n",
       "23    101449.499685\n",
       "24    106742.816526\n",
       "25    109958.225696\n",
       "26    115372.919533\n",
       "27    116463.318927\n",
       "28    124155.623503\n",
       "29    126370.419463\n",
       "dtype: float64"
      ]
     },
     "execution_count": 133,
     "metadata": {},
     "output_type": "execute_result"
    }
   ],
   "source": [
    "np.cbrt(model.predict(data))\n",
    "# Predictions for input data"
   ]
  },
  {
   "cell_type": "code",
   "execution_count": 134,
   "id": "7308f426-78a3-4c2b-b983-883f173c61e5",
   "metadata": {},
   "outputs": [
    {
     "data": {
      "image/png": "[encoded data removed]",
      "text/plain": [
       "<Figure size 432x288 with 1 Axes>"
      ]
     },
     "metadata": {
      "needs_background": "light"
     },
     "output_type": "display_data"
    }
   ],
   "source": [
    "# Comparing original Data's scatterplot with regressed model's scatterplot \n",
    "plt.scatter(data.Salary,data.YearsExperience)\n",
    "plt.scatter(np.cbrt(model.predict(data)),data.YearsExperience,marker='+')\n",
    "plt.show()"
   ]
  },
  {
   "cell_type": "markdown",
   "id": "9dbdb943-92b0-45af-8b81-6160d5ec2fa9",
   "metadata": {},
   "source": [
    "### The transformation No.1 (y~x)  gives us the best r-squared value and hence can be adopted."
   ]
  },
  {
   "cell_type": "code",
   "execution_count": null,
   "id": "222d6689-962b-4961-b2b5-7d6b6fe168db",
   "metadata": {},
   "outputs": [],
   "source": []
  }
 ],
 "metadata": {
  "_draft": {
   "nbviewer_url": "https://gist.github.com/cd32d2b8b1f74914d4ac3c9c95e34e8c"
  },
  "gist": {
   "data": {
    "description": "Simple Linear Regression/Assignment(Simple Linear Regression - Salary)",
    "public": true
   },
   "id": "cd32d2b8b1f74914d4ac3c9c95e34e8c"
  },
  "kernelspec": {
   "display_name": "Python 3 (ipykernel)",
   "language": "python",
   "name": "python3"
  },
  "language_info": {
   "codemirror_mode": {
    "name": "ipython",
    "version": 3
   },
   "file_extension": ".py",
   "mimetype": "text/x-python",
   "name": "python",
   "nbconvert_exporter": "python",
   "pygments_lexer": "ipython3",
   "version": "3.9.7"
  },
  "toc": {
   "base_numbering": 1,
   "nav_menu": {},
   "number_sections": true,
   "sideBar": true,
   "skip_h1_title": false,
   "title_cell": "Table of Contents",
   "title_sidebar": "Contents",
   "toc_cell": false,
   "toc_position": {},
   "toc_section_display": true,
   "toc_window_display": false
  },
  "varInspector": {
   "cols": {
    "lenName": 16,
    "lenType": 16,
    "lenVar": 40
   },
   "kernels_config": {
    "python": {
     "delete_cmd_postfix": "",
     "delete_cmd_prefix": "del ",
     "library": "var_list.py",
     "varRefreshCmd": "print(var_dic_list())"
    },
    "r": {
     "delete_cmd_postfix": ") ",
     "delete_cmd_prefix": "rm(",
     "library": "var_list.r",
     "varRefreshCmd": "cat(var_dic_list()) "
    }
   },
   "types_to_exclude": [
    "module",
    "function",
    "builtin_function_or_method",
    "instance",
    "_Feature"
   ],
   "window_display": false
  }
 },
 "nbformat": 4,
 "nbformat_minor": 5
}
