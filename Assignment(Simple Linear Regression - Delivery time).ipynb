{
 "cells": [
  {
   "cell_type": "markdown",
   "id": "5f38864a-d41f-4322-b090-8dc8569ad74f",
   "metadata": {
    "colab_type": "text",
    "id": "UgLPjlenOAZU",
    "toc-hr-collapsed": true
   },
   "source": [
    "# Import Libraries and Data Set"
   ]
  },
  {
   "cell_type": "markdown",
   "id": "402cbd45-f103-4c35-a67d-3cf51549cc00",
   "metadata": {},
   "source": [
    "### Delivery_time -> Predict delivery time using sorting time "
   ]
  },
  {
   "cell_type": "code",
   "execution_count": 1,
   "id": "55e73daf-8d65-4850-a275-7a40937dc035",
   "metadata": {
    "colab": {},
    "colab_type": "code",
    "id": "t87KFKu3OAZV",
    "outputId": "9fff4407-61bf-480a-a972-cc45fa6cef2c",
    "tags": []
   },
   "outputs": [
    {
     "data": {
      "text/html": [
       "<div>\n",
       "<style scoped>\n",
       "    .dataframe tbody tr th:only-of-type {\n",
       "        vertical-align: middle;\n",
       "    }\n",
       "\n",
       "    .dataframe tbody tr th {\n",
       "        vertical-align: top;\n",
       "    }\n",
       "\n",
       "    .dataframe thead th {\n",
       "        text-align: right;\n",
       "    }\n",
       "</style>\n",
       "<table border=\"1\" class=\"dataframe\">\n",
       "  <thead>\n",
       "    <tr style=\"text-align: right;\">\n",
       "      <th></th>\n",
       "      <th>Delivery Time</th>\n",
       "      <th>Sorting Time</th>\n",
       "    </tr>\n",
       "  </thead>\n",
       "  <tbody>\n",
       "    <tr>\n",
       "      <th>0</th>\n",
       "      <td>21.00</td>\n",
       "      <td>10</td>\n",
       "    </tr>\n",
       "    <tr>\n",
       "      <th>1</th>\n",
       "      <td>13.50</td>\n",
       "      <td>4</td>\n",
       "    </tr>\n",
       "    <tr>\n",
       "      <th>2</th>\n",
       "      <td>19.75</td>\n",
       "      <td>6</td>\n",
       "    </tr>\n",
       "    <tr>\n",
       "      <th>3</th>\n",
       "      <td>24.00</td>\n",
       "      <td>9</td>\n",
       "    </tr>\n",
       "    <tr>\n",
       "      <th>4</th>\n",
       "      <td>29.00</td>\n",
       "      <td>10</td>\n",
       "    </tr>\n",
       "  </tbody>\n",
       "</table>\n",
       "</div>"
      ],
      "text/plain": [
       "   Delivery Time  Sorting Time\n",
       "0          21.00            10\n",
       "1          13.50             4\n",
       "2          19.75             6\n",
       "3          24.00             9\n",
       "4          29.00            10"
      ]
     },
     "execution_count": 1,
     "metadata": {},
     "output_type": "execute_result"
    }
   ],
   "source": [
    "import pandas as pd\n",
    "import seaborn as sns\n",
    "import numpy as np\n",
    "import matplotlib.pyplot as plt\n",
    "%matplotlib inline\n",
    "\n",
    "data = pd.read_csv(\"C:/Users/HP/Downloads/delivery_time.csv\")\n",
    "data.head()"
   ]
  },
  {
   "cell_type": "code",
   "execution_count": 2,
   "id": "2dd99088-c14a-4a9a-81db-7b8b8aa5fd74",
   "metadata": {},
   "outputs": [
    {
     "name": "stdout",
     "output_type": "stream",
     "text": [
      "<class 'pandas.core.frame.DataFrame'>\n",
      "RangeIndex: 21 entries, 0 to 20\n",
      "Data columns (total 2 columns):\n",
      " #   Column         Non-Null Count  Dtype  \n",
      "---  ------         --------------  -----  \n",
      " 0   Delivery Time  21 non-null     float64\n",
      " 1   Sorting Time   21 non-null     int64  \n",
      "dtypes: float64(1), int64(1)\n",
      "memory usage: 464.0 bytes\n"
     ]
    }
   ],
   "source": [
    "data.info()\n",
    "# All the rows have data and contain no NaN values, and have correct datatypes hence no need to go ahead with EDA"
   ]
  },
  {
   "cell_type": "code",
   "execution_count": 3,
   "id": "408efca1-14cb-4bd5-877f-1b52e3c3bcae",
   "metadata": {},
   "outputs": [
    {
     "data": {
      "text/html": [
       "<div>\n",
       "<style scoped>\n",
       "    .dataframe tbody tr th:only-of-type {\n",
       "        vertical-align: middle;\n",
       "    }\n",
       "\n",
       "    .dataframe tbody tr th {\n",
       "        vertical-align: top;\n",
       "    }\n",
       "\n",
       "    .dataframe thead th {\n",
       "        text-align: right;\n",
       "    }\n",
       "</style>\n",
       "<table border=\"1\" class=\"dataframe\">\n",
       "  <thead>\n",
       "    <tr style=\"text-align: right;\">\n",
       "      <th></th>\n",
       "      <th>Delivery Time</th>\n",
       "      <th>Sorting Time</th>\n",
       "    </tr>\n",
       "  </thead>\n",
       "  <tbody>\n",
       "    <tr>\n",
       "      <th>count</th>\n",
       "      <td>21.000000</td>\n",
       "      <td>21.000000</td>\n",
       "    </tr>\n",
       "    <tr>\n",
       "      <th>mean</th>\n",
       "      <td>16.790952</td>\n",
       "      <td>6.190476</td>\n",
       "    </tr>\n",
       "    <tr>\n",
       "      <th>std</th>\n",
       "      <td>5.074901</td>\n",
       "      <td>2.542028</td>\n",
       "    </tr>\n",
       "    <tr>\n",
       "      <th>min</th>\n",
       "      <td>8.000000</td>\n",
       "      <td>2.000000</td>\n",
       "    </tr>\n",
       "    <tr>\n",
       "      <th>25%</th>\n",
       "      <td>13.500000</td>\n",
       "      <td>4.000000</td>\n",
       "    </tr>\n",
       "    <tr>\n",
       "      <th>50%</th>\n",
       "      <td>17.830000</td>\n",
       "      <td>6.000000</td>\n",
       "    </tr>\n",
       "    <tr>\n",
       "      <th>75%</th>\n",
       "      <td>19.750000</td>\n",
       "      <td>8.000000</td>\n",
       "    </tr>\n",
       "    <tr>\n",
       "      <th>max</th>\n",
       "      <td>29.000000</td>\n",
       "      <td>10.000000</td>\n",
       "    </tr>\n",
       "  </tbody>\n",
       "</table>\n",
       "</div>"
      ],
      "text/plain": [
       "       Delivery Time  Sorting Time\n",
       "count      21.000000     21.000000\n",
       "mean       16.790952      6.190476\n",
       "std         5.074901      2.542028\n",
       "min         8.000000      2.000000\n",
       "25%        13.500000      4.000000\n",
       "50%        17.830000      6.000000\n",
       "75%        19.750000      8.000000\n",
       "max        29.000000     10.000000"
      ]
     },
     "execution_count": 3,
     "metadata": {},
     "output_type": "execute_result"
    }
   ],
   "source": [
    "data.describe()"
   ]
  },
  {
   "cell_type": "markdown",
   "id": "aff955a5-524d-4164-a894-f082d3356b66",
   "metadata": {
    "colab_type": "text",
    "id": "whOIvCAzOAZZ"
   },
   "source": [
    "# Check Correlation"
   ]
  },
  {
   "cell_type": "code",
   "execution_count": 4,
   "id": "028a86a9-df10-4e98-bc2f-e0703cfc1263",
   "metadata": {
    "colab": {},
    "colab_type": "code",
    "id": "4Uaqam_BOAZZ",
    "outputId": "2118fe0b-d1d6-4474-cf45-8e8b0b4680b2"
   },
   "outputs": [
    {
     "data": {
      "text/html": [
       "<div>\n",
       "<style scoped>\n",
       "    .dataframe tbody tr th:only-of-type {\n",
       "        vertical-align: middle;\n",
       "    }\n",
       "\n",
       "    .dataframe tbody tr th {\n",
       "        vertical-align: top;\n",
       "    }\n",
       "\n",
       "    .dataframe thead th {\n",
       "        text-align: right;\n",
       "    }\n",
       "</style>\n",
       "<table border=\"1\" class=\"dataframe\">\n",
       "  <thead>\n",
       "    <tr style=\"text-align: right;\">\n",
       "      <th></th>\n",
       "      <th>Delivery Time</th>\n",
       "      <th>Sorting Time</th>\n",
       "    </tr>\n",
       "  </thead>\n",
       "  <tbody>\n",
       "    <tr>\n",
       "      <th>Delivery Time</th>\n",
       "      <td>1.000000</td>\n",
       "      <td>0.825997</td>\n",
       "    </tr>\n",
       "    <tr>\n",
       "      <th>Sorting Time</th>\n",
       "      <td>0.825997</td>\n",
       "      <td>1.000000</td>\n",
       "    </tr>\n",
       "  </tbody>\n",
       "</table>\n",
       "</div>"
      ],
      "text/plain": [
       "               Delivery Time  Sorting Time\n",
       "Delivery Time       1.000000      0.825997\n",
       "Sorting Time        0.825997      1.000000"
      ]
     },
     "execution_count": 4,
     "metadata": {},
     "output_type": "execute_result"
    }
   ],
   "source": [
    "data.corr()\n",
    "# Correlation is more than 0.8.\n",
    "# Higher correlation suggests Linear regression may provide better predictions"
   ]
  },
  {
   "cell_type": "code",
   "execution_count": 5,
   "id": "c77c5bad-deba-4c9c-8f3d-6e24c29c47fb",
   "metadata": {},
   "outputs": [
    {
     "name": "stderr",
     "output_type": "stream",
     "text": [
      "C:\\Users\\HP\\anaconda3\\lib\\site-packages\\seaborn\\distributions.py:2619: FutureWarning: `distplot` is a deprecated function and will be removed in a future version. Please adapt your code to use either `displot` (a figure-level function with similar flexibility) or `histplot` (an axes-level function for histograms).\n",
      "  warnings.warn(msg, FutureWarning)\n"
     ]
    },
    {
     "data": {
      "text/plain": [
       "<AxesSubplot:xlabel='Delivery Time', ylabel='Density'>"
      ]
     },
     "execution_count": 5,
     "metadata": {},
     "output_type": "execute_result"
    },
    {
     "data": {
      "image/png": "[encoded data removed]",
      "text/plain": [
       "<Figure size 432x288 with 1 Axes>"
      ]
     },
     "metadata": {
      "needs_background": "light"
     },
     "output_type": "display_data"
    }
   ],
   "source": [
    "# Plot both columns\n",
    "sns.distplot(data['Delivery Time'])"
   ]
  },
  {
   "cell_type": "code",
   "execution_count": 6,
   "id": "d8556287-947e-4086-b416-b09e58f4b73b",
   "metadata": {},
   "outputs": [
    {
     "name": "stderr",
     "output_type": "stream",
     "text": [
      "C:\\Users\\HP\\anaconda3\\lib\\site-packages\\seaborn\\distributions.py:2619: FutureWarning: `distplot` is a deprecated function and will be removed in a future version. Please adapt your code to use either `displot` (a figure-level function with similar flexibility) or `histplot` (an axes-level function for histograms).\n",
      "  warnings.warn(msg, FutureWarning)\n"
     ]
    },
    {
     "data": {
      "text/plain": [
       "<AxesSubplot:xlabel='Sorting Time', ylabel='Density'>"
      ]
     },
     "execution_count": 6,
     "metadata": {},
     "output_type": "execute_result"
    },
    {
     "data": {
      "image/png": "[encoded data removed]",
      "text/plain": [
       "<Figure size 432x288 with 1 Axes>"
      ]
     },
     "metadata": {
      "needs_background": "light"
     },
     "output_type": "display_data"
    }
   ],
   "source": [
    "sns.distplot(data['Sorting Time'])\n",
    "# Both distplots show that values are fairly normally distributed"
   ]
  },
  {
   "cell_type": "code",
   "execution_count": 7,
   "id": "63b79244-c552-4ee2-b27a-5ce086f6768a",
   "metadata": {},
   "outputs": [
    {
     "data": {
      "text/plain": [
       "<AxesSubplot:xlabel='Delivery Time', ylabel='Sorting Time'>"
      ]
     },
     "execution_count": 7,
     "metadata": {},
     "output_type": "execute_result"
    },
    {
     "data": {
      "image/png": "[encoded data removed]",
      "text/plain": [
       "<Figure size 432x288 with 1 Axes>"
      ]
     },
     "metadata": {
      "needs_background": "light"
     },
     "output_type": "display_data"
    }
   ],
   "source": [
    "sns.scatterplot(x=data['Delivery Time'],y=data['Sorting Time'])\n"
   ]
  },
  {
   "cell_type": "markdown",
   "id": "95dfa6ae-3a4e-4838-9b99-8396cd75ab9c",
   "metadata": {
    "colab_type": "text",
    "id": "Hh2B9xPQOAZc"
   },
   "source": [
    "# Fitting a Linear Regression Model"
   ]
  },
  {
   "cell_type": "markdown",
   "id": "9a80a592-6eb9-4f62-a593-5bd2add1f79f",
   "metadata": {
    "toc-hr-collapsed": true
   },
   "source": [
    "### 1. For y~x"
   ]
  },
  {
   "cell_type": "code",
   "execution_count": 8,
   "id": "06c54432-648c-4365-8fa0-41166c1e23d6",
   "metadata": {
    "colab": {},
    "colab_type": "code",
    "id": "0SO63uMnOAZc",
    "outputId": "d755b8ff-516d-45b1-aab6-6dbf24284151"
   },
   "outputs": [],
   "source": [
    "# Rename Dataset Columns\n",
    "data = data.rename(columns = {\"Delivery Time\":\"deliverytime\"})\n",
    "data = data.rename(columns = {\"Sorting Time\":\"sortingtime\"})\n",
    "import statsmodels.formula.api as smf\n",
    "model = smf.ols('deliverytime~sortingtime',data = data).fit()"
   ]
  },
  {
   "cell_type": "code",
   "execution_count": 9,
   "id": "1a5dba2a-d4c3-4937-94f1-b9364a61c372",
   "metadata": {},
   "outputs": [
    {
     "data": {
      "text/html": [
       "<div>\n",
       "<style scoped>\n",
       "    .dataframe tbody tr th:only-of-type {\n",
       "        vertical-align: middle;\n",
       "    }\n",
       "\n",
       "    .dataframe tbody tr th {\n",
       "        vertical-align: top;\n",
       "    }\n",
       "\n",
       "    .dataframe thead th {\n",
       "        text-align: right;\n",
       "    }\n",
       "</style>\n",
       "<table border=\"1\" class=\"dataframe\">\n",
       "  <thead>\n",
       "    <tr style=\"text-align: right;\">\n",
       "      <th></th>\n",
       "      <th>deliverytime</th>\n",
       "      <th>sortingtime</th>\n",
       "    </tr>\n",
       "  </thead>\n",
       "  <tbody>\n",
       "    <tr>\n",
       "      <th>0</th>\n",
       "      <td>21.00</td>\n",
       "      <td>10</td>\n",
       "    </tr>\n",
       "    <tr>\n",
       "      <th>1</th>\n",
       "      <td>13.50</td>\n",
       "      <td>4</td>\n",
       "    </tr>\n",
       "    <tr>\n",
       "      <th>2</th>\n",
       "      <td>19.75</td>\n",
       "      <td>6</td>\n",
       "    </tr>\n",
       "    <tr>\n",
       "      <th>3</th>\n",
       "      <td>24.00</td>\n",
       "      <td>9</td>\n",
       "    </tr>\n",
       "    <tr>\n",
       "      <th>4</th>\n",
       "      <td>29.00</td>\n",
       "      <td>10</td>\n",
       "    </tr>\n",
       "  </tbody>\n",
       "</table>\n",
       "</div>"
      ],
      "text/plain": [
       "   deliverytime  sortingtime\n",
       "0         21.00           10\n",
       "1         13.50            4\n",
       "2         19.75            6\n",
       "3         24.00            9\n",
       "4         29.00           10"
      ]
     },
     "execution_count": 9,
     "metadata": {},
     "output_type": "execute_result"
    }
   ],
   "source": [
    "data.head()"
   ]
  },
  {
   "cell_type": "code",
   "execution_count": 10,
   "id": "2f2f5905-aa33-4f7c-9768-c74e55b20408",
   "metadata": {},
   "outputs": [
    {
     "data": {
      "image/png": "[encoded data removed]",
      "text/plain": [
       "<Figure size 432x288 with 1 Axes>"
      ]
     },
     "metadata": {
      "needs_background": "light"
     },
     "output_type": "display_data"
    }
   ],
   "source": [
    "sns.regplot(x=\"deliverytime\", y=\"sortingtime\", data=data);"
   ]
  },
  {
   "cell_type": "code",
   "execution_count": 11,
   "id": "ef4413c5-4eef-4f30-8544-f8a865bebba6",
   "metadata": {},
   "outputs": [
    {
     "data": {
      "text/plain": [
       "Intercept      6.582734\n",
       "sortingtime    1.649020\n",
       "dtype: float64"
      ]
     },
     "execution_count": 11,
     "metadata": {},
     "output_type": "execute_result"
    }
   ],
   "source": [
    "#Coefficients\n",
    "model.params"
   ]
  },
  {
   "cell_type": "code",
   "execution_count": 12,
   "id": "dc8ab35b-6015-4a68-8f1e-0a9ffbfc2054",
   "metadata": {},
   "outputs": [
    {
     "name": "stdout",
     "output_type": "stream",
     "text": [
      "Intercept      3.823349\n",
      "sortingtime    6.387447\n",
      "dtype: float64 \n",
      " Intercept      0.001147\n",
      "sortingtime    0.000004\n",
      "dtype: float64\n"
     ]
    }
   ],
   "source": [
    "#t and p-Values\n",
    "\n",
    "print(model.tvalues, '\\n', model.pvalues) \n",
    "# pvalues for both intercept and y are less than 0.05"
   ]
  },
  {
   "cell_type": "code",
   "execution_count": 13,
   "id": "a9d12831-6351-4061-9d8d-88874f4f5733",
   "metadata": {},
   "outputs": [
    {
     "data": {
      "text/plain": [
       "(0.6822714748417231, 0.6655489208860244)"
      ]
     },
     "execution_count": 13,
     "metadata": {},
     "output_type": "execute_result"
    }
   ],
   "source": [
    "#R squared values\n",
    "(model.rsquared,model.rsquared_adj)"
   ]
  },
  {
   "cell_type": "code",
   "execution_count": null,
   "id": "a39b7454-ae08-4850-b8c0-5a8342a31635",
   "metadata": {},
   "outputs": [],
   "source": []
  },
  {
   "cell_type": "markdown",
   "id": "37b220af-8a38-4574-901d-cfede0b29acc",
   "metadata": {
    "colab_type": "text",
    "id": "F2S7v7rdOAZf"
   },
   "source": [
    "#### Predict for original dataset"
   ]
  },
  {
   "cell_type": "code",
   "execution_count": 14,
   "id": "d42e624b-4452-40f6-9689-4fb18cbc9792",
   "metadata": {
    "colab": {},
    "colab_type": "code",
    "id": "rqe52vmCOAZg",
    "outputId": "1578e5b2-5135-41d4-875a-e580cf87dc6b"
   },
   "outputs": [],
   "source": [
    "#Predict for the given dataset values of original dataset\n"
   ]
  },
  {
   "cell_type": "code",
   "execution_count": 15,
   "id": "ae24711d-2d01-4260-b2ee-cb57ece54c03",
   "metadata": {},
   "outputs": [
    {
     "data": {
      "text/plain": [
       "0     23.072933\n",
       "1     13.178814\n",
       "2     16.476853\n",
       "3     21.423913\n",
       "4     23.072933\n",
       "5     16.476853\n",
       "6     18.125873\n",
       "7     11.529794\n",
       "8     23.072933\n",
       "9     21.423913\n",
       "10    19.774893\n",
       "11    13.178814\n",
       "12    18.125873\n",
       "13    11.529794\n",
       "14    11.529794\n",
       "15    13.178814\n",
       "16    16.476853\n",
       "17    18.125873\n",
       "18     9.880774\n",
       "19    18.125873\n",
       "20    14.827833\n",
       "dtype: float64"
      ]
     },
     "execution_count": 15,
     "metadata": {},
     "output_type": "execute_result"
    }
   ],
   "source": [
    "model.predict(data)\n",
    "# Predictions for input data"
   ]
  },
  {
   "cell_type": "code",
   "execution_count": 16,
   "id": "a148d4bb-57cd-4ea9-b2df-4e0ad7a83a62",
   "metadata": {},
   "outputs": [
    {
     "data": {
      "image/png": "[encoded data removed]",
      "text/plain": [
       "<Figure size 432x288 with 1 Axes>"
      ]
     },
     "metadata": {
      "needs_background": "light"
     },
     "output_type": "display_data"
    }
   ],
   "source": [
    "# Comparing original Data's scatterplot with regressed model's scatterplot\n",
    "plt.scatter(data.deliverytime,data.sortingtime)\n",
    "plt.scatter(model.predict(data),data.sortingtime,marker='+')\n",
    "plt.show()"
   ]
  },
  {
   "cell_type": "markdown",
   "id": "2b87ff59-4e78-4e34-926a-13ee0447a83d",
   "metadata": {
    "toc-hr-collapsed": true
   },
   "source": [
    "### 2. for y~np.log(x)"
   ]
  },
  {
   "cell_type": "code",
   "execution_count": 126,
   "id": "1388051c-24eb-41c8-8c4d-45c052a527f1",
   "metadata": {},
   "outputs": [],
   "source": [
    "y = data.deliverytime\n",
    "x = data.sortingtime\n"
   ]
  },
  {
   "cell_type": "code",
   "execution_count": 127,
   "id": "dd0a9a21-45c3-4f71-899e-c151a74bde51",
   "metadata": {
    "colab": {},
    "colab_type": "code",
    "id": "0SO63uMnOAZc",
    "outputId": "d755b8ff-516d-45b1-aab6-6dbf24284151"
   },
   "outputs": [],
   "source": [
    "model = smf.ols('y~np.log(x)',data = data).fit()"
   ]
  },
  {
   "cell_type": "code",
   "execution_count": 128,
   "id": "fa671373-758a-4194-883e-d77bd98a7b9d",
   "metadata": {},
   "outputs": [
    {
     "data": {
      "image/png": "[encoded data removed]",
      "text/plain": [
       "<Figure size 432x288 with 1 Axes>"
      ]
     },
     "metadata": {
      "needs_background": "light"
     },
     "output_type": "display_data"
    }
   ],
   "source": [
    "sns.regplot(x=y, y=np.log(x), data=data);"
   ]
  },
  {
   "cell_type": "code",
   "execution_count": 129,
   "id": "f49e588a-0c9e-4c4c-9c06-18a6b2b9e14b",
   "metadata": {},
   "outputs": [
    {
     "data": {
      "text/plain": [
       "Intercept    1.159684\n",
       "np.log(x)    9.043413\n",
       "dtype: float64"
      ]
     },
     "execution_count": 129,
     "metadata": {},
     "output_type": "execute_result"
    }
   ],
   "source": [
    "#Coefficients\n",
    "model.params"
   ]
  },
  {
   "cell_type": "code",
   "execution_count": 130,
   "id": "8d084524-577a-4f56-9fd5-2a330d43b613",
   "metadata": {},
   "outputs": [
    {
     "name": "stdout",
     "output_type": "stream",
     "text": [
      "Intercept    0.472460\n",
      "np.log(x)    6.586789\n",
      "dtype: float64 \n",
      " Intercept    0.641980\n",
      "np.log(x)    0.000003\n",
      "dtype: float64\n"
     ]
    }
   ],
   "source": [
    "#t and p-Values\n",
    "\n",
    "print(model.tvalues, '\\n', model.pvalues) \n",
    "# pvalues for intercept is higher and for y-intercept is less than 0.05"
   ]
  },
  {
   "cell_type": "code",
   "execution_count": 131,
   "id": "975f708e-1848-4f9b-a525-470ffdc1f005",
   "metadata": {},
   "outputs": [
    {
     "data": {
      "text/plain": [
       "(0.6954434611324223, 0.6794141696130761)"
      ]
     },
     "execution_count": 131,
     "metadata": {},
     "output_type": "execute_result"
    }
   ],
   "source": [
    "#R squared values\n",
    "(model.rsquared,model.rsquared_adj)\n",
    "# rsquare values are better than y~x"
   ]
  },
  {
   "cell_type": "markdown",
   "id": "4b64b27c-255e-4026-aceb-fa6a35da09cb",
   "metadata": {
    "colab_type": "text",
    "id": "F2S7v7rdOAZf"
   },
   "source": [
    "#### Predict for original dataset"
   ]
  },
  {
   "cell_type": "code",
   "execution_count": 132,
   "id": "069fb821-eb3b-45c8-b572-97152d29434d",
   "metadata": {
    "colab": {},
    "colab_type": "code",
    "id": "rqe52vmCOAZg",
    "outputId": "1578e5b2-5135-41d4-875a-e580cf87dc6b"
   },
   "outputs": [],
   "source": [
    "#Predict for the given dataset values of original dataset\n"
   ]
  },
  {
   "cell_type": "code",
   "execution_count": 133,
   "id": "28ec3dd7-d55d-40ba-b5dc-5eb36c25b6b2",
   "metadata": {},
   "outputs": [
    {
     "data": {
      "text/plain": [
       "0     21.982913\n",
       "1     13.696517\n",
       "2     17.363305\n",
       "3     21.030094\n",
       "4     21.982913\n",
       "5     17.363305\n",
       "6     18.757354\n",
       "7     11.094889\n",
       "8     21.982913\n",
       "9     21.030094\n",
       "10    19.964933\n",
       "11    13.696517\n",
       "12    18.757354\n",
       "13    11.094889\n",
       "14    11.094889\n",
       "15    13.696517\n",
       "16    17.363305\n",
       "17    18.757354\n",
       "18     7.428100\n",
       "19    18.757354\n",
       "20    15.714496\n",
       "dtype: float64"
      ]
     },
     "execution_count": 133,
     "metadata": {},
     "output_type": "execute_result"
    }
   ],
   "source": [
    "model.predict(data)\n",
    "# Predictions for input data"
   ]
  },
  {
   "cell_type": "code",
   "execution_count": 134,
   "id": "a889cd47-c1aa-4611-997f-bc36b356a6d8",
   "metadata": {},
   "outputs": [
    {
     "data": {
      "image/png": "[encoded data removed]",
      "text/plain": [
       "<Figure size 432x288 with 1 Axes>"
      ]
     },
     "metadata": {
      "needs_background": "light"
     },
     "output_type": "display_data"
    }
   ],
   "source": [
    "# Comparing original Data's scatterplot with regressed model's scatterplot\n",
    "plt.scatter(data.deliverytime,np.log(data.sortingtime))\n",
    "plt.scatter(model.predict(data),np.log(data.sortingtime),marker='+')\n",
    "plt.show()"
   ]
  },
  {
   "cell_type": "markdown",
   "id": "fe84b2c3-d49c-430e-9a9d-ea2ed67648c4",
   "metadata": {
    "toc-hr-collapsed": true
   },
   "source": [
    "### 3. for np.log(y)~x"
   ]
  },
  {
   "cell_type": "code",
   "execution_count": 26,
   "id": "bb3c69c8-79b1-4747-b25d-db54382c767d",
   "metadata": {},
   "outputs": [],
   "source": [
    "y = data.deliverytime\n",
    "x = data.sortingtime\n"
   ]
  },
  {
   "cell_type": "code",
   "execution_count": 27,
   "id": "d8499ce2-94da-479d-b883-5da9be02e765",
   "metadata": {
    "colab": {},
    "colab_type": "code",
    "id": "0SO63uMnOAZc",
    "outputId": "d755b8ff-516d-45b1-aab6-6dbf24284151"
   },
   "outputs": [],
   "source": [
    "model = smf.ols('np.log(y)~x',data = data).fit()"
   ]
  },
  {
   "cell_type": "code",
   "execution_count": 28,
   "id": "a188adbb-998d-4610-8413-ea4b045cf1d3",
   "metadata": {},
   "outputs": [
    {
     "data": {
      "image/png": "[encoded data removed]",
      "text/plain": [
       "<Figure size 432x288 with 1 Axes>"
      ]
     },
     "metadata": {
      "needs_background": "light"
     },
     "output_type": "display_data"
    }
   ],
   "source": [
    "sns.regplot(x=np.log(y), y=x, data=data,logx=True);"
   ]
  },
  {
   "cell_type": "code",
   "execution_count": 29,
   "id": "82853164-0616-44e6-9856-8ba3874d04f7",
   "metadata": {},
   "outputs": [
    {
     "data": {
      "text/plain": [
       "Intercept    2.121372\n",
       "x            0.105552\n",
       "dtype: float64"
      ]
     },
     "execution_count": 29,
     "metadata": {},
     "output_type": "execute_result"
    }
   ],
   "source": [
    "#Coefficients\n",
    "model.params"
   ]
  },
  {
   "cell_type": "code",
   "execution_count": 30,
   "id": "83a8c789-8f42-4e0b-afa9-10a0f8212342",
   "metadata": {},
   "outputs": [
    {
     "name": "stdout",
     "output_type": "stream",
     "text": [
      "Intercept    20.601357\n",
      "x             6.836088\n",
      "dtype: float64 \n",
      " Intercept    1.857343e-14\n",
      "x            1.592708e-06\n",
      "dtype: float64\n"
     ]
    }
   ],
   "source": [
    "#t and p-Values\n",
    "\n",
    "print(model.tvalues, '\\n', model.pvalues) \n",
    "# pvalues for both intercept and y are less than 0.05"
   ]
  },
  {
   "cell_type": "code",
   "execution_count": 31,
   "id": "16c01247-d603-4a7c-b1ec-d5f874b5ca27",
   "metadata": {},
   "outputs": [
    {
     "data": {
      "text/plain": [
       "(0.7109478980584187, 0.6957346295351776)"
      ]
     },
     "execution_count": 31,
     "metadata": {},
     "output_type": "execute_result"
    }
   ],
   "source": [
    "#R squared values\n",
    "(model.rsquared,model.rsquared_adj)"
   ]
  },
  {
   "cell_type": "markdown",
   "id": "81ac5914-6647-46ae-b052-f61c826e67f7",
   "metadata": {
    "colab_type": "text",
    "id": "F2S7v7rdOAZf"
   },
   "source": [
    "#### Predict for original dataset"
   ]
  },
  {
   "cell_type": "code",
   "execution_count": 32,
   "id": "8d9ff0ed-0b6a-4bef-8491-b9da07f417c4",
   "metadata": {
    "colab": {},
    "colab_type": "code",
    "id": "rqe52vmCOAZg",
    "outputId": "1578e5b2-5135-41d4-875a-e580cf87dc6b"
   },
   "outputs": [],
   "source": [
    "#Predict for the given dataset values of original dataset\n"
   ]
  },
  {
   "cell_type": "code",
   "execution_count": 33,
   "id": "3abae79e-6494-4cce-a861-1f92dc0efe09",
   "metadata": {},
   "outputs": [
    {
     "data": {
      "text/plain": [
       "0     23.972032\n",
       "1     12.725123\n",
       "2     15.716034\n",
       "3     21.570707\n",
       "4     23.972032\n",
       "5     15.716034\n",
       "6     17.465597\n",
       "7     11.450423\n",
       "8     23.972032\n",
       "9     21.570707\n",
       "10    19.409927\n",
       "11    12.725123\n",
       "12    17.465597\n",
       "13    11.450423\n",
       "14    11.450423\n",
       "15    12.725123\n",
       "16    15.716034\n",
       "17    17.465597\n",
       "18    10.303411\n",
       "19    17.465597\n",
       "20    14.141728\n",
       "dtype: float64"
      ]
     },
     "execution_count": 33,
     "metadata": {},
     "output_type": "execute_result"
    }
   ],
   "source": [
    "np.exp(model.predict(data))\n",
    "# Predictions for input data = These predictions are way off the original data"
   ]
  },
  {
   "cell_type": "code",
   "execution_count": 34,
   "id": "e3250b0b-5a61-4853-9079-9bfabf749e07",
   "metadata": {},
   "outputs": [
    {
     "data": {
      "image/png": "[encoded data removed]",
      "text/plain": [
       "<Figure size 432x288 with 1 Axes>"
      ]
     },
     "metadata": {
      "needs_background": "light"
     },
     "output_type": "display_data"
    }
   ],
   "source": [
    "# Comparing original Data's scatterplot with regressed model's scatterplot\n",
    "plt.scatter(data.sortingtime,(data.deliverytime))\n",
    "plt.scatter(data.sortingtime,np.exp(model.predict(data)),marker='+')\n",
    "plt.show()"
   ]
  },
  {
   "cell_type": "markdown",
   "id": "8506bab1-4110-42f8-b9bd-899b58a967cc",
   "metadata": {
    "toc-hr-collapsed": true
   },
   "source": [
    "### 4. for np.log(y)~np.log(x)"
   ]
  },
  {
   "cell_type": "code",
   "execution_count": 35,
   "id": "5180c91d-6112-4975-bc98-19585a4bdced",
   "metadata": {},
   "outputs": [],
   "source": [
    "y = data.deliverytime\n",
    "x = data.sortingtime\n"
   ]
  },
  {
   "cell_type": "code",
   "execution_count": 36,
   "id": "ac4dc935-7b04-4b79-af48-c63d2065ec52",
   "metadata": {
    "colab": {},
    "colab_type": "code",
    "id": "0SO63uMnOAZc",
    "outputId": "d755b8ff-516d-45b1-aab6-6dbf24284151"
   },
   "outputs": [],
   "source": [
    "model = smf.ols('np.log(y)~np.log(x)',data = data).fit()"
   ]
  },
  {
   "cell_type": "code",
   "execution_count": 37,
   "id": "bc496aad-3df4-45bc-9ede-d906835849b3",
   "metadata": {},
   "outputs": [
    {
     "data": {
      "image/png": "[encoded data removed]",
      "text/plain": [
       "<Figure size 432x288 with 1 Axes>"
      ]
     },
     "metadata": {
      "needs_background": "light"
     },
     "output_type": "display_data"
    }
   ],
   "source": [
    "sns.regplot(x=np.log(y), y=np.log(x), data=data,logx=True);"
   ]
  },
  {
   "cell_type": "code",
   "execution_count": 38,
   "id": "a19726ee-62d7-466d-9fc2-f828a82a2600",
   "metadata": {},
   "outputs": [
    {
     "data": {
      "text/plain": [
       "Intercept    1.741987\n",
       "np.log(x)    0.597522\n",
       "dtype: float64"
      ]
     },
     "execution_count": 38,
     "metadata": {},
     "output_type": "execute_result"
    }
   ],
   "source": [
    "#Coefficients\n",
    "model.params"
   ]
  },
  {
   "cell_type": "code",
   "execution_count": 39,
   "id": "c003dfa4-bad4-472f-bbd9-1ba5769e2f8f",
   "metadata": {},
   "outputs": [
    {
     "name": "stdout",
     "output_type": "stream",
     "text": [
      "Intercept    13.085552\n",
      "np.log(x)     8.024484\n",
      "dtype: float64 \n",
      " Intercept    5.921137e-11\n",
      "np.log(x)    1.601539e-07\n",
      "dtype: float64\n"
     ]
    }
   ],
   "source": [
    "#t and p-Values\n",
    "\n",
    "print(model.tvalues, '\\n', model.pvalues) \n",
    "# pvalues for both intercept and y are less than 0.05"
   ]
  },
  {
   "cell_type": "code",
   "execution_count": 40,
   "id": "d5370668-8e9d-44f8-9628-7014f348d5cd",
   "metadata": {},
   "outputs": [
    {
     "data": {
      "text/plain": [
       "(0.77216134926874, 0.7601698413355158)"
      ]
     },
     "execution_count": 40,
     "metadata": {},
     "output_type": "execute_result"
    }
   ],
   "source": [
    "#R squared values\n",
    "(model.rsquared,model.rsquared_adj)"
   ]
  },
  {
   "cell_type": "markdown",
   "id": "561f2ef1-d74f-482f-b71a-4a236309bdf5",
   "metadata": {
    "colab_type": "text",
    "id": "F2S7v7rdOAZf"
   },
   "source": [
    "#### Predict for original dataset"
   ]
  },
  {
   "cell_type": "code",
   "execution_count": 41,
   "id": "ec6aad1b-d569-48e9-b0b1-d20cb1650f43",
   "metadata": {
    "colab": {},
    "colab_type": "code",
    "id": "rqe52vmCOAZg",
    "outputId": "1578e5b2-5135-41d4-875a-e580cf87dc6b"
   },
   "outputs": [],
   "source": [
    "#Predict for the given dataset values of original dataset\n"
   ]
  },
  {
   "cell_type": "code",
   "execution_count": 42,
   "id": "a08a1ff3-d1e4-4d5f-8f0e-f4e3358e2074",
   "metadata": {},
   "outputs": [
    {
     "data": {
      "text/plain": [
       "0     22.597360\n",
       "1     13.070123\n",
       "2     16.653216\n",
       "3     21.218593\n",
       "4     22.597360\n",
       "5     16.653216\n",
       "6     18.259981\n",
       "7     11.005911\n",
       "8     22.597360\n",
       "9     21.218593\n",
       "10    19.776608\n",
       "11    13.070123\n",
       "12    18.259981\n",
       "13    11.005911\n",
       "14    11.005911\n",
       "15    13.070123\n",
       "16    16.653216\n",
       "17    18.259981\n",
       "18     8.637887\n",
       "19    18.259981\n",
       "20    14.934324\n",
       "dtype: float64"
      ]
     },
     "execution_count": 42,
     "metadata": {},
     "output_type": "execute_result"
    }
   ],
   "source": [
    "np.exp(model.predict(data))\n",
    "# Predictions for input data = output very far from original data"
   ]
  },
  {
   "cell_type": "code",
   "execution_count": 43,
   "id": "541d03bd-1209-4dce-9011-b0585e6bbc3d",
   "metadata": {},
   "outputs": [
    {
     "data": {
      "image/png": "[encoded data removed]",
      "text/plain": [
       "<Figure size 432x288 with 1 Axes>"
      ]
     },
     "metadata": {
      "needs_background": "light"
     },
     "output_type": "display_data"
    }
   ],
   "source": [
    "# Comparing original Data's scatterplot with regressed model's scatterplot\n",
    "plt.scatter(data.deliverytime,data.sortingtime)\n",
    "plt.scatter(np.exp(model.predict(data)),data.sortingtime,marker='+')\n",
    "plt.show()"
   ]
  },
  {
   "cell_type": "markdown",
   "id": "6b3daf5b-e29d-44d6-b5e3-bd1d580178a7",
   "metadata": {
    "toc-hr-collapsed": true
   },
   "source": [
    "### 5. for y~np.square(x)"
   ]
  },
  {
   "cell_type": "code",
   "execution_count": null,
   "id": "90c6db51-4e98-4b11-a659-6036c95c257c",
   "metadata": {},
   "outputs": [],
   "source": []
  },
  {
   "cell_type": "code",
   "execution_count": 44,
   "id": "419d7889-5463-42b2-918b-c2c7c0ac6f47",
   "metadata": {},
   "outputs": [],
   "source": [
    "y = data.deliverytime\n",
    "x = data.sortingtime\n"
   ]
  },
  {
   "cell_type": "code",
   "execution_count": 45,
   "id": "766910a9-4135-4767-a511-d26bae19ce5f",
   "metadata": {
    "colab": {},
    "colab_type": "code",
    "id": "0SO63uMnOAZc",
    "outputId": "d755b8ff-516d-45b1-aab6-6dbf24284151"
   },
   "outputs": [],
   "source": [
    "model = smf.ols('y~np.square(x)',data = data).fit()"
   ]
  },
  {
   "cell_type": "code",
   "execution_count": 46,
   "id": "8035211c-3649-4c18-9818-a70fff1bf67b",
   "metadata": {},
   "outputs": [
    {
     "data": {
      "image/png": "[encoded data removed]",
      "text/plain": [
       "<Figure size 432x288 with 1 Axes>"
      ]
     },
     "metadata": {
      "needs_background": "light"
     },
     "output_type": "display_data"
    }
   ],
   "source": [
    "sns.regplot(x=y, y=np.square(x), data=data,logx=True);"
   ]
  },
  {
   "cell_type": "code",
   "execution_count": 47,
   "id": "1e64bba5-eab7-461d-8dc1-a9b48b59a9d6",
   "metadata": {},
   "outputs": [
    {
     "data": {
      "text/plain": [
       "Intercept       11.237205\n",
       "np.square(x)     0.124870\n",
       "dtype: float64"
      ]
     },
     "execution_count": 47,
     "metadata": {},
     "output_type": "execute_result"
    }
   ],
   "source": [
    "#Coefficients\n",
    "model.params"
   ]
  },
  {
   "cell_type": "code",
   "execution_count": 48,
   "id": "94bc4b03-a3f6-4eb9-836b-9b235c5f2392",
   "metadata": {},
   "outputs": [
    {
     "name": "stdout",
     "output_type": "stream",
     "text": [
      "Intercept       9.398601\n",
      "np.square(x)    5.691330\n",
      "dtype: float64 \n",
      " Intercept       1.415704e-08\n",
      "np.square(x)    1.739194e-05\n",
      "dtype: float64\n"
     ]
    }
   ],
   "source": [
    "#t and p-Values\n",
    "\n",
    "print(model.tvalues, '\\n', model.pvalues) \n",
    "# pvalues for both intercept and y are less than 0.05"
   ]
  },
  {
   "cell_type": "code",
   "execution_count": 49,
   "id": "d85ac264-df1c-4c98-b1a1-f9576ee09ac6",
   "metadata": {},
   "outputs": [
    {
     "data": {
      "text/plain": [
       "(0.6302871815826637, 0.6108286121922777)"
      ]
     },
     "execution_count": 49,
     "metadata": {},
     "output_type": "execute_result"
    }
   ],
   "source": [
    "#R squared values\n",
    "(model.rsquared,model.rsquared_adj)\n",
    "# r square values degrade as compared to y~x"
   ]
  },
  {
   "cell_type": "markdown",
   "id": "256b5b19-ea95-43b2-a8bf-f75c0bd74aab",
   "metadata": {
    "colab_type": "text",
    "id": "F2S7v7rdOAZf"
   },
   "source": [
    "#### Predict for original dataset"
   ]
  },
  {
   "cell_type": "code",
   "execution_count": 50,
   "id": "7278e41d-a58f-4b80-8641-e44991cb60a2",
   "metadata": {
    "colab": {},
    "colab_type": "code",
    "id": "rqe52vmCOAZg",
    "outputId": "1578e5b2-5135-41d4-875a-e580cf87dc6b"
   },
   "outputs": [],
   "source": [
    "#Predict for the given dataset values of original dataset\n"
   ]
  },
  {
   "cell_type": "code",
   "execution_count": 51,
   "id": "0e74f53b-bd05-416d-b672-e7c913c98c2d",
   "metadata": {},
   "outputs": [
    {
     "data": {
      "text/plain": [
       "0     23.724217\n",
       "1     13.235127\n",
       "2     15.732529\n",
       "3     21.351685\n",
       "4     23.724217\n",
       "5     15.732529\n",
       "6     17.355841\n",
       "7     12.361036\n",
       "8     23.724217\n",
       "9     21.351685\n",
       "10    19.228893\n",
       "11    13.235127\n",
       "12    17.355841\n",
       "13    12.361036\n",
       "14    12.361036\n",
       "15    13.235127\n",
       "16    15.732529\n",
       "17    17.355841\n",
       "18    11.736686\n",
       "19    17.355841\n",
       "20    14.358958\n",
       "dtype: float64"
      ]
     },
     "execution_count": 51,
     "metadata": {},
     "output_type": "execute_result"
    }
   ],
   "source": [
    "model.predict(data)\n",
    "# Predictions for input data"
   ]
  },
  {
   "cell_type": "code",
   "execution_count": 52,
   "id": "32ef1db5-c5d3-4c3c-84a8-89958184bb62",
   "metadata": {},
   "outputs": [
    {
     "data": {
      "image/png": "[encoded data removed]",
      "text/plain": [
       "<Figure size 432x288 with 1 Axes>"
      ]
     },
     "metadata": {
      "needs_background": "light"
     },
     "output_type": "display_data"
    }
   ],
   "source": [
    "# Comparing original Data's scatterplot with regressed model's scatterplot\n",
    "plt.scatter(data.deliverytime,data.sortingtime)\n",
    "plt.scatter(model.predict(data),data.sortingtime,marker='+')\n",
    "plt.show()"
   ]
  },
  {
   "cell_type": "markdown",
   "id": "e967c701-33ab-438b-aacd-cd14863a12c6",
   "metadata": {
    "toc-hr-collapsed": true
   },
   "source": [
    "### 6. for np.sq(y)~x"
   ]
  },
  {
   "cell_type": "code",
   "execution_count": null,
   "id": "cf77847a-73a6-4cc3-bcee-ff4f03f8d006",
   "metadata": {},
   "outputs": [],
   "source": []
  },
  {
   "cell_type": "code",
   "execution_count": 53,
   "id": "55926da1-bd05-4cd3-a006-8095399bcb1d",
   "metadata": {},
   "outputs": [],
   "source": [
    "y = data.deliverytime\n",
    "x = data.sortingtime\n"
   ]
  },
  {
   "cell_type": "code",
   "execution_count": 54,
   "id": "1fd7179d-2b1b-4c40-8cb4-9ba705c90fc4",
   "metadata": {
    "colab": {},
    "colab_type": "code",
    "id": "0SO63uMnOAZc",
    "outputId": "d755b8ff-516d-45b1-aab6-6dbf24284151"
   },
   "outputs": [],
   "source": [
    "model = smf.ols('np.square(y)~x',data = data).fit()"
   ]
  },
  {
   "cell_type": "code",
   "execution_count": 55,
   "id": "ac18a51f-f7ee-4816-b251-3d8c27d77ca9",
   "metadata": {},
   "outputs": [
    {
     "data": {
      "image/png": "[encoded data removed]",
      "text/plain": [
       "<Figure size 432x288 with 1 Axes>"
      ]
     },
     "metadata": {
      "needs_background": "light"
     },
     "output_type": "display_data"
    }
   ],
   "source": [
    "sns.regplot(x=np.square(y), y=x, data=data);"
   ]
  },
  {
   "cell_type": "code",
   "execution_count": 56,
   "id": "77e6e81b-f44b-4a3a-84e9-41d01a13d7fd",
   "metadata": {},
   "outputs": [
    {
     "data": {
      "text/plain": [
       "Intercept   -37.440078\n",
       "x            55.553783\n",
       "dtype: float64"
      ]
     },
     "execution_count": 56,
     "metadata": {},
     "output_type": "execute_result"
    }
   ],
   "source": [
    "#Coefficients\n",
    "model.params"
   ]
  },
  {
   "cell_type": "code",
   "execution_count": 57,
   "id": "b8832245-fb94-4355-94bf-8f51c7f6d29a",
   "metadata": {},
   "outputs": [
    {
     "name": "stdout",
     "output_type": "stream",
     "text": [
      "Intercept   -0.542504\n",
      "x            5.368383\n",
      "dtype: float64 \n",
      " Intercept    0.593778\n",
      "x            0.000035\n",
      "dtype: float64\n"
     ]
    }
   ],
   "source": [
    "#t and p-Values\n",
    "\n",
    "print(model.tvalues, '\\n', model.pvalues) \n",
    "# pvalues for intercept high and for less than 0.05"
   ]
  },
  {
   "cell_type": "code",
   "execution_count": 58,
   "id": "1b6f275d-ceca-4f33-a14b-4be1e5d6d332",
   "metadata": {},
   "outputs": [
    {
     "data": {
      "text/plain": [
       "(0.6026728443618878, 0.5817608888019872)"
      ]
     },
     "execution_count": 58,
     "metadata": {},
     "output_type": "execute_result"
    }
   ],
   "source": [
    "#R squared values\n",
    "(model.rsquared,model.rsquared_adj)"
   ]
  },
  {
   "cell_type": "markdown",
   "id": "5a235363-3bf1-4ebd-bbac-618522edad75",
   "metadata": {
    "colab_type": "text",
    "id": "F2S7v7rdOAZf"
   },
   "source": [
    "#### Predict for original dataset"
   ]
  },
  {
   "cell_type": "code",
   "execution_count": 59,
   "id": "050dce80-2556-4364-972a-70d303553846",
   "metadata": {
    "colab": {},
    "colab_type": "code",
    "id": "rqe52vmCOAZg",
    "outputId": "1578e5b2-5135-41d4-875a-e580cf87dc6b"
   },
   "outputs": [],
   "source": [
    "#Predict for the given dataset values of original dataset\n"
   ]
  },
  {
   "cell_type": "code",
   "execution_count": 60,
   "id": "a02b719e-2799-45e6-b4d7-d8e68e1684d4",
   "metadata": {},
   "outputs": [
    {
     "data": {
      "text/plain": [
       "0     22.761761\n",
       "1     13.593199\n",
       "2     17.201239\n",
       "3     21.506835\n",
       "4     22.761761\n",
       "5     17.201239\n",
       "6     18.746637\n",
       "7     11.367553\n",
       "8     22.761761\n",
       "9     21.506835\n",
       "10    20.173998\n",
       "11    13.593199\n",
       "12    18.746637\n",
       "13    11.367553\n",
       "14    11.367553\n",
       "15    13.593199\n",
       "16    17.201239\n",
       "17    18.746637\n",
       "18     8.582977\n",
       "19    18.746637\n",
       "20    15.502543\n",
       "dtype: float64"
      ]
     },
     "execution_count": 60,
     "metadata": {},
     "output_type": "execute_result"
    }
   ],
   "source": [
    "np.sqrt(model.predict(data))\n",
    "# Predictions for input data"
   ]
  },
  {
   "cell_type": "code",
   "execution_count": 61,
   "id": "205a0897-1453-4efb-adf4-f0969283c38f",
   "metadata": {},
   "outputs": [
    {
     "data": {
      "image/png": "[encoded data removed]",
      "text/plain": [
       "<Figure size 432x288 with 1 Axes>"
      ]
     },
     "metadata": {
      "needs_background": "light"
     },
     "output_type": "display_data"
    }
   ],
   "source": [
    "# Comparing original Data's scatterplot with regressed model's scatterplot\n",
    "plt.scatter(np.square(data.deliverytime),data.sortingtime)\n",
    "plt.scatter(model.predict(data),data.sortingtime,marker='+')\n",
    "plt.show()"
   ]
  },
  {
   "cell_type": "markdown",
   "id": "ae666454-3d16-4c60-b689-35cc69ffee93",
   "metadata": {
    "toc-hr-collapsed": true
   },
   "source": [
    "### 7. for np.sq(y)~np.sq(x)"
   ]
  },
  {
   "cell_type": "code",
   "execution_count": null,
   "id": "e974be8f-172d-42cd-a958-924be25eec23",
   "metadata": {},
   "outputs": [],
   "source": []
  },
  {
   "cell_type": "code",
   "execution_count": 62,
   "id": "e4dabecd-c620-4109-98e1-aaa9a8647b9e",
   "metadata": {},
   "outputs": [],
   "source": [
    "y = data.deliverytime\n",
    "x = data.sortingtime\n"
   ]
  },
  {
   "cell_type": "code",
   "execution_count": 63,
   "id": "a7715d6b-51a4-449d-a4d5-3a3e850b0b77",
   "metadata": {
    "colab": {},
    "colab_type": "code",
    "id": "0SO63uMnOAZc",
    "outputId": "d755b8ff-516d-45b1-aab6-6dbf24284151"
   },
   "outputs": [],
   "source": [
    "model = smf.ols('np.square(y)~np.square(x)',data = data).fit()"
   ]
  },
  {
   "cell_type": "code",
   "execution_count": 64,
   "id": "c34d1f7c-1be2-4ca3-ac7a-606fd0396a34",
   "metadata": {},
   "outputs": [
    {
     "data": {
      "image/png": "[encoded data removed]",
      "text/plain": [
       "<Figure size 432x288 with 1 Axes>"
      ]
     },
     "metadata": {
      "needs_background": "light"
     },
     "output_type": "display_data"
    }
   ],
   "source": [
    "sns.regplot(x=np.square(y), y=np.square(x), data=data,logx=True);"
   ]
  },
  {
   "cell_type": "code",
   "execution_count": 65,
   "id": "1c6d93d2-d336-4314-b20e-eb5e0b8e6296",
   "metadata": {},
   "outputs": [
    {
     "data": {
      "text/plain": [
       "Intercept       114.154847\n",
       "np.square(x)      4.323874\n",
       "dtype: float64"
      ]
     },
     "execution_count": 65,
     "metadata": {},
     "output_type": "execute_result"
    }
   ],
   "source": [
    "#Coefficients\n",
    "model.params"
   ]
  },
  {
   "cell_type": "code",
   "execution_count": 66,
   "id": "602b60ad-6ec7-4d0b-9bf2-0d53f867b686",
   "metadata": {},
   "outputs": [
    {
     "name": "stdout",
     "output_type": "stream",
     "text": [
      "Intercept       2.523810\n",
      "np.square(x)    5.209376\n",
      "dtype: float64 \n",
      " Intercept       0.020675\n",
      "np.square(x)    0.000050\n",
      "dtype: float64\n"
     ]
    }
   ],
   "source": [
    "#t and p-Values\n",
    "\n",
    "print(model.tvalues, '\\n', model.pvalues) \n",
    "# pvalues for both intercept and y are less than 0.05"
   ]
  },
  {
   "cell_type": "code",
   "execution_count": 67,
   "id": "91413263-d3c1-4216-af91-669bf155bc66",
   "metadata": {},
   "outputs": [
    {
     "data": {
      "text/plain": [
       "(0.5881883446986836, 0.566514047051246)"
      ]
     },
     "execution_count": 67,
     "metadata": {},
     "output_type": "execute_result"
    }
   ],
   "source": [
    "#R squared values\n",
    "(model.rsquared,model.rsquared_adj)\n",
    "# r squared value goes further down"
   ]
  },
  {
   "cell_type": "markdown",
   "id": "f2a1403e-0e69-4a87-b610-a4d7737624b7",
   "metadata": {
    "colab_type": "text",
    "id": "F2S7v7rdOAZf"
   },
   "source": [
    "#### Predict for original dataset"
   ]
  },
  {
   "cell_type": "code",
   "execution_count": 68,
   "id": "49434ab3-efb8-4e58-9067-3feacdd689b0",
   "metadata": {
    "colab": {},
    "colab_type": "code",
    "id": "rqe52vmCOAZg",
    "outputId": "1578e5b2-5135-41d4-875a-e580cf87dc6b"
   },
   "outputs": [],
   "source": [
    "#Predict for the given dataset values of original dataset\n"
   ]
  },
  {
   "cell_type": "code",
   "execution_count": 69,
   "id": "511d2768-38e0-42a4-b8c1-3bc50bd26842",
   "metadata": {},
   "outputs": [
    {
     "data": {
      "text/plain": [
       "0     23.378243\n",
       "1     13.540193\n",
       "2     16.426025\n",
       "3     21.549678\n",
       "4     23.378243\n",
       "5     16.426025\n",
       "6     18.056153\n",
       "7     12.372135\n",
       "8     23.378243\n",
       "9     21.549678\n",
       "10    19.770756\n",
       "11    13.540193\n",
       "12    18.056153\n",
       "13    12.372135\n",
       "14    12.372135\n",
       "15    13.540193\n",
       "16    16.426025\n",
       "17    18.056153\n",
       "18    11.465180\n",
       "19    18.056153\n",
       "20    14.908108\n",
       "dtype: float64"
      ]
     },
     "execution_count": 69,
     "metadata": {},
     "output_type": "execute_result"
    }
   ],
   "source": [
    "np.sqrt(model.predict(data))\n",
    "# Predictions for input data = output inconsistent"
   ]
  },
  {
   "cell_type": "code",
   "execution_count": 70,
   "id": "330501c6-49d0-41d2-93d4-2182868fc08d",
   "metadata": {},
   "outputs": [
    {
     "data": {
      "image/png": "[encoded data removed]",
      "text/plain": [
       "<Figure size 432x288 with 1 Axes>"
      ]
     },
     "metadata": {
      "needs_background": "light"
     },
     "output_type": "display_data"
    }
   ],
   "source": [
    "# Comparing original Data's scatterplot with regressed model's scatterplot\n",
    "plt.scatter(data.deliverytime,data.sortingtime)\n",
    "plt.scatter(np.sqrt(model.predict(data)),data.sortingtime,marker='+')\n",
    "plt.show()"
   ]
  },
  {
   "cell_type": "markdown",
   "id": "30a52da2-336c-4450-834f-a8fa53bd49c1",
   "metadata": {
    "toc-hr-collapsed": true
   },
   "source": [
    "### 8. for y~np.sqrt(x)"
   ]
  },
  {
   "cell_type": "code",
   "execution_count": null,
   "id": "987643b4-070b-4ba7-a4a6-dd97d6fbc75b",
   "metadata": {},
   "outputs": [],
   "source": []
  },
  {
   "cell_type": "code",
   "execution_count": 71,
   "id": "90de32e4-8fad-4ec2-b329-a3f4b29deac9",
   "metadata": {},
   "outputs": [],
   "source": [
    "y = data.deliverytime\n",
    "x = data.sortingtime\n"
   ]
  },
  {
   "cell_type": "code",
   "execution_count": 72,
   "id": "7733028a-efc6-4a9e-bb7b-c259672a772b",
   "metadata": {
    "colab": {},
    "colab_type": "code",
    "id": "0SO63uMnOAZc",
    "outputId": "d755b8ff-516d-45b1-aab6-6dbf24284151"
   },
   "outputs": [],
   "source": [
    "model = smf.ols('y~np.sqrt(x)',data = data).fit()"
   ]
  },
  {
   "cell_type": "code",
   "execution_count": 73,
   "id": "cf1bc985-1324-4187-9012-07cae0779303",
   "metadata": {},
   "outputs": [
    {
     "data": {
      "image/png": "[encoded data removed]",
      "text/plain": [
       "<Figure size 432x288 with 1 Axes>"
      ]
     },
     "metadata": {
      "needs_background": "light"
     },
     "output_type": "display_data"
    }
   ],
   "source": [
    "sns.regplot(x=y, y=np.sqrt(x), data=data);"
   ]
  },
  {
   "cell_type": "code",
   "execution_count": 74,
   "id": "e774a51f-c3d1-4efe-a00b-077288ce1ff5",
   "metadata": {},
   "outputs": [
    {
     "data": {
      "text/plain": [
       "Intercept    -2.518837\n",
       "np.sqrt(x)    7.936591\n",
       "dtype: float64"
      ]
     },
     "execution_count": 74,
     "metadata": {},
     "output_type": "execute_result"
    }
   ],
   "source": [
    "#Coefficients\n",
    "model.params"
   ]
  },
  {
   "cell_type": "code",
   "execution_count": 75,
   "id": "fafa401c-95d6-4b20-949c-26f11afdc874",
   "metadata": {},
   "outputs": [
    {
     "name": "stdout",
     "output_type": "stream",
     "text": [
      "Intercept    -0.840911\n",
      "np.sqrt(x)    6.592434\n",
      "dtype: float64 \n",
      " Intercept     0.410857\n",
      "np.sqrt(x)    0.000003\n",
      "dtype: float64\n"
     ]
    }
   ],
   "source": [
    "#t and p-Values\n",
    "\n",
    "print(model.tvalues, '\\n', model.pvalues) \n",
    "# pvalues for intercept high and for y less than 0.05"
   ]
  },
  {
   "cell_type": "code",
   "execution_count": 76,
   "id": "ead6991e-ed2d-48ef-b81b-020711989bbe",
   "metadata": {},
   "outputs": [
    {
     "data": {
      "text/plain": [
       "(0.6958062276308671, 0.6797960290851233)"
      ]
     },
     "execution_count": 76,
     "metadata": {},
     "output_type": "execute_result"
    }
   ],
   "source": [
    "#R squared values\n",
    "(model.rsquared,model.rsquared_adj)"
   ]
  },
  {
   "cell_type": "markdown",
   "id": "e6a5982d-bfdd-4c33-8333-17ccb5f60dbb",
   "metadata": {
    "colab_type": "text",
    "id": "F2S7v7rdOAZf"
   },
   "source": [
    "#### Predict for original dataset"
   ]
  },
  {
   "cell_type": "code",
   "execution_count": 77,
   "id": "60b89449-f794-4a5d-977a-d7ac89ec9ddd",
   "metadata": {
    "colab": {},
    "colab_type": "code",
    "id": "rqe52vmCOAZg",
    "outputId": "1578e5b2-5135-41d4-875a-e580cf87dc6b"
   },
   "outputs": [],
   "source": [
    "#Predict for the given dataset values of original dataset\n"
   ]
  },
  {
   "cell_type": "code",
   "execution_count": 78,
   "id": "05f5dec7-ff2e-46c8-9a56-23da5c68a958",
   "metadata": {},
   "outputs": [
    {
     "data": {
      "text/plain": [
       "0     22.578867\n",
       "1     13.354345\n",
       "2     16.921761\n",
       "3     21.290936\n",
       "4     22.578867\n",
       "5     16.921761\n",
       "6     18.479409\n",
       "7     11.227742\n",
       "8     22.578867\n",
       "9     21.290936\n",
       "10    19.929232\n",
       "11    13.354345\n",
       "12    18.479409\n",
       "13    11.227742\n",
       "14    11.227742\n",
       "15    13.354345\n",
       "16    16.921761\n",
       "17    18.479409\n",
       "18     8.705198\n",
       "19    18.479409\n",
       "20    15.227920\n",
       "dtype: float64"
      ]
     },
     "execution_count": 78,
     "metadata": {},
     "output_type": "execute_result"
    }
   ],
   "source": [
    "model.predict(data)\n",
    "# Predictions for input data"
   ]
  },
  {
   "cell_type": "code",
   "execution_count": 79,
   "id": "fcac8a39-78ae-4fe5-be52-7c44bf045715",
   "metadata": {},
   "outputs": [
    {
     "data": {
      "image/png": "[encoded data removed]",
      "text/plain": [
       "<Figure size 432x288 with 1 Axes>"
      ]
     },
     "metadata": {
      "needs_background": "light"
     },
     "output_type": "display_data"
    }
   ],
   "source": [
    "# Comparing original Data's scatterplot with regressed model's scatterplot\n",
    "plt.scatter(data.deliverytime,data.sortingtime)\n",
    "plt.scatter(model.predict(data),data.sortingtime,marker='+')\n",
    "plt.show()"
   ]
  },
  {
   "cell_type": "markdown",
   "id": "13563dd2-ae2b-4a89-b338-9d4acb1f2616",
   "metadata": {
    "toc-hr-collapsed": true
   },
   "source": [
    "### 9. for np.sqrt(y)~x"
   ]
  },
  {
   "cell_type": "code",
   "execution_count": 80,
   "id": "a5f2d9ed-c45b-413b-9504-d31eaa711773",
   "metadata": {},
   "outputs": [],
   "source": [
    "y = data.deliverytime\n",
    "x = data.sortingtime\n"
   ]
  },
  {
   "cell_type": "code",
   "execution_count": 81,
   "id": "ac524a5c-758d-4ad1-92f4-f88e61e1b0fe",
   "metadata": {
    "colab": {},
    "colab_type": "code",
    "id": "0SO63uMnOAZc",
    "outputId": "d755b8ff-516d-45b1-aab6-6dbf24284151"
   },
   "outputs": [],
   "source": [
    "model = smf.ols('np.sqrt(y)~x',data = data).fit()"
   ]
  },
  {
   "cell_type": "code",
   "execution_count": 82,
   "id": "5416db17-e860-42f1-828e-b7df0e752bfb",
   "metadata": {},
   "outputs": [
    {
     "data": {
      "image/png": "[encoded data removed]",
      "text/plain": [
       "<Figure size 432x288 with 1 Axes>"
      ]
     },
     "metadata": {
      "needs_background": "light"
     },
     "output_type": "display_data"
    }
   ],
   "source": [
    "sns.regplot(x=np.sqrt(y), y=x, data=data);"
   ]
  },
  {
   "cell_type": "code",
   "execution_count": 83,
   "id": "880eda15-f933-467c-b398-a08cbcd6bb52",
   "metadata": {},
   "outputs": [
    {
     "data": {
      "text/plain": [
       "Intercept    2.772731\n",
       "x            0.206632\n",
       "dtype: float64"
      ]
     },
     "execution_count": 83,
     "metadata": {},
     "output_type": "execute_result"
    }
   ],
   "source": [
    "#Coefficients\n",
    "model.params"
   ]
  },
  {
   "cell_type": "code",
   "execution_count": 84,
   "id": "6de3e1d4-c87e-4bd5-a909-6f75b54e2b07",
   "metadata": {},
   "outputs": [
    {
     "name": "stdout",
     "output_type": "stream",
     "text": [
      "Intercept    13.527452\n",
      "x             6.723095\n",
      "dtype: float64 \n",
      " Intercept    3.339366e-11\n",
      "x            2.001215e-06\n",
      "dtype: float64\n"
     ]
    }
   ],
   "source": [
    "#t and p-Values\n",
    "\n",
    "print(model.tvalues, '\\n', model.pvalues) \n",
    "# pvalues for both intercept and y are less than 0.05"
   ]
  },
  {
   "cell_type": "code",
   "execution_count": 85,
   "id": "a0c7b2fb-282a-4f50-859a-4c1da3a668b4",
   "metadata": {},
   "outputs": [
    {
     "data": {
      "text/plain": [
       "(0.704049871541756, 0.6884735489913221)"
      ]
     },
     "execution_count": 85,
     "metadata": {},
     "output_type": "execute_result"
    }
   ],
   "source": [
    "#R squared values\n",
    "(model.rsquared,model.rsquared_adj)"
   ]
  },
  {
   "cell_type": "markdown",
   "id": "816ec0f9-3a22-4bab-8832-79f7addb8909",
   "metadata": {
    "colab_type": "text",
    "id": "F2S7v7rdOAZf"
   },
   "source": [
    "#### Predict for original dataset"
   ]
  },
  {
   "cell_type": "code",
   "execution_count": 86,
   "id": "1e678a6c-0f56-4175-9638-97045efd39d7",
   "metadata": {
    "colab": {},
    "colab_type": "code",
    "id": "rqe52vmCOAZg",
    "outputId": "1578e5b2-5135-41d4-875a-e580cf87dc6b"
   },
   "outputs": [],
   "source": [
    "#Predict for the given dataset values of original dataset\n"
   ]
  },
  {
   "cell_type": "code",
   "execution_count": 87,
   "id": "b9b4543d-4384-4d8b-b6c4-2ae4db7efcb7",
   "metadata": {},
   "outputs": [
    {
     "data": {
      "text/plain": [
       "0     23.416397\n",
       "1     12.954660\n",
       "2     16.100332\n",
       "3     21.459291\n",
       "4     23.416397\n",
       "5     16.100332\n",
       "6     17.801258\n",
       "7     11.509915\n",
       "8     23.416397\n",
       "9     21.459291\n",
       "10    19.587578\n",
       "11    12.954660\n",
       "12    17.801258\n",
       "13    11.509915\n",
       "14    11.509915\n",
       "15    12.954660\n",
       "16    16.100332\n",
       "17    17.801258\n",
       "18    10.150562\n",
       "19    17.801258\n",
       "20    14.484800\n",
       "dtype: float64"
      ]
     },
     "execution_count": 87,
     "metadata": {},
     "output_type": "execute_result"
    }
   ],
   "source": [
    "np.square(model.predict(data))\n",
    "# Predictions for input data but output inconsistent with original data"
   ]
  },
  {
   "cell_type": "code",
   "execution_count": 88,
   "id": "2481d8f4-2434-4d84-8b5f-6b8323241dba",
   "metadata": {},
   "outputs": [
    {
     "data": {
      "image/png": "[encoded data removed]",
      "text/plain": [
       "<Figure size 432x288 with 1 Axes>"
      ]
     },
     "metadata": {
      "needs_background": "light"
     },
     "output_type": "display_data"
    }
   ],
   "source": [
    "# Comparing original Data's scatterplot with regressed model's scatterplot\n",
    "plt.scatter(data.deliverytime,data.sortingtime)\n",
    "plt.scatter(np.square(model.predict(data)),data.sortingtime,marker='+')\n",
    "plt.show()"
   ]
  },
  {
   "cell_type": "markdown",
   "id": "8d98276a-4130-4320-97a9-559dd0281ee0",
   "metadata": {
    "toc-hr-collapsed": true
   },
   "source": [
    "### 10. for np.sqrt(y)~np.sqrt(x)"
   ]
  },
  {
   "cell_type": "code",
   "execution_count": 89,
   "id": "b6dd795e-2fcd-4718-b163-2dbd1d48a2f8",
   "metadata": {},
   "outputs": [],
   "source": [
    "y = data.deliverytime\n",
    "x = data.sortingtime\n"
   ]
  },
  {
   "cell_type": "code",
   "execution_count": 90,
   "id": "49a0f3fc-49a9-428e-97b4-56646b10c3bd",
   "metadata": {
    "colab": {},
    "colab_type": "code",
    "id": "0SO63uMnOAZc",
    "outputId": "d755b8ff-516d-45b1-aab6-6dbf24284151"
   },
   "outputs": [],
   "source": [
    "model = smf.ols('np.sqrt(y)~np.sqrt(x)',data = data).fit()"
   ]
  },
  {
   "cell_type": "code",
   "execution_count": 91,
   "id": "eddc2a36-9140-4115-8741-7e2958120571",
   "metadata": {},
   "outputs": [
    {
     "data": {
      "image/png": "[encoded data removed]",
      "text/plain": [
       "<Figure size 432x288 with 1 Axes>"
      ]
     },
     "metadata": {
      "needs_background": "light"
     },
     "output_type": "display_data"
    }
   ],
   "source": [
    "sns.regplot(x=np.sqrt(y), y=np.sqrt(x), data=data);"
   ]
  },
  {
   "cell_type": "code",
   "execution_count": 92,
   "id": "5d0a1979-f632-4000-be61-91505e3a3302",
   "metadata": {},
   "outputs": [
    {
     "data": {
      "text/plain": [
       "Intercept     1.613479\n",
       "np.sqrt(x)    1.002217\n",
       "dtype: float64"
      ]
     },
     "execution_count": 92,
     "metadata": {},
     "output_type": "execute_result"
    }
   ],
   "source": [
    "#Coefficients\n",
    "model.params"
   ]
  },
  {
   "cell_type": "code",
   "execution_count": 93,
   "id": "b17a56da-4fa3-4347-9977-fa37748557bb",
   "metadata": {},
   "outputs": [
    {
     "name": "stdout",
     "output_type": "stream",
     "text": [
      "Intercept     4.628248\n",
      "np.sqrt(x)    7.152817\n",
      "dtype: float64 \n",
      " Intercept     1.833621e-04\n",
      "np.sqrt(x)    8.475706e-07\n",
      "dtype: float64\n"
     ]
    }
   ],
   "source": [
    "#t and p-Values\n",
    "\n",
    "print(model.tvalues, '\\n', model.pvalues) \n",
    "# pvalues for both intercept and y are less than 0.05"
   ]
  },
  {
   "cell_type": "code",
   "execution_count": 94,
   "id": "c69ec150-8557-46dc-9921-dddf821fd191",
   "metadata": {},
   "outputs": [
    {
     "data": {
      "text/plain": [
       "(0.7292011987544664, 0.7149486302678594)"
      ]
     },
     "execution_count": 94,
     "metadata": {},
     "output_type": "execute_result"
    }
   ],
   "source": [
    "#R squared values\n",
    "(model.rsquared,model.rsquared_adj)"
   ]
  },
  {
   "cell_type": "markdown",
   "id": "a3225282-fb42-4f5b-8931-5970cdf867c7",
   "metadata": {
    "colab_type": "text",
    "id": "F2S7v7rdOAZf"
   },
   "source": [
    "#### Predict for original dataset"
   ]
  },
  {
   "cell_type": "code",
   "execution_count": 95,
   "id": "0a49f632-6ac7-4161-8d72-447b58a8b00f",
   "metadata": {
    "colab": {},
    "colab_type": "code",
    "id": "rqe52vmCOAZg",
    "outputId": "1578e5b2-5135-41d4-875a-e580cf87dc6b"
   },
   "outputs": [],
   "source": [
    "#Predict for the given dataset values of original dataset\n"
   ]
  },
  {
   "cell_type": "code",
   "execution_count": 96,
   "id": "17954a68-784f-4e47-849d-3ab31abc93fe",
   "metadata": {},
   "outputs": [
    {
     "data": {
      "text/plain": [
       "0     22.874858\n",
       "1     13.089290\n",
       "2     16.551868\n",
       "3     21.345595\n",
       "4     22.874858\n",
       "5     16.551868\n",
       "6     18.191038\n",
       "7     11.218274\n",
       "8     22.874858\n",
       "9     21.345595\n",
       "10    19.786270\n",
       "11    13.089290\n",
       "12    18.191038\n",
       "13    11.218274\n",
       "14    11.218274\n",
       "15    13.089290\n",
       "16    16.551868\n",
       "17    18.191038\n",
       "18     9.185915\n",
       "19    18.191038\n",
       "20    14.857199\n",
       "dtype: float64"
      ]
     },
     "execution_count": 96,
     "metadata": {},
     "output_type": "execute_result"
    }
   ],
   "source": [
    "np.square(model.predict(data))\n",
    "# Predictions for input data"
   ]
  },
  {
   "cell_type": "code",
   "execution_count": 97,
   "id": "ad5f6c89-928c-43d9-9e11-613dc75b8459",
   "metadata": {},
   "outputs": [
    {
     "data": {
      "image/png": "[encoded data removed]",
      "text/plain": [
       "<Figure size 432x288 with 1 Axes>"
      ]
     },
     "metadata": {
      "needs_background": "light"
     },
     "output_type": "display_data"
    }
   ],
   "source": [
    "# Comparing original Data's scatterplot with regressed model's scatterplot\n",
    "plt.scatter(data.deliverytime,data.sortingtime)\n",
    "plt.scatter(np.square(model.predict(data)),data.sortingtime,marker='+')\n",
    "plt.show()"
   ]
  },
  {
   "cell_type": "code",
   "execution_count": null,
   "id": "068274d3-ab18-4df9-a717-47aaad6959ba",
   "metadata": {},
   "outputs": [],
   "source": []
  },
  {
   "cell_type": "markdown",
   "id": "02908a86-b9fe-48c9-9084-4ec50327f47e",
   "metadata": {
    "toc-hr-collapsed": true
   },
   "source": [
    "### 11. for y~np.power(x,3)"
   ]
  },
  {
   "cell_type": "code",
   "execution_count": 98,
   "id": "9ca457c4-3ca7-4f4c-9eac-a75e9f3cafb7",
   "metadata": {},
   "outputs": [],
   "source": [
    "y = data.deliverytime\n",
    "x = data.sortingtime\n"
   ]
  },
  {
   "cell_type": "code",
   "execution_count": 99,
   "id": "cf6f738b-bd0f-4b56-b207-e5319be7a11c",
   "metadata": {
    "colab": {},
    "colab_type": "code",
    "id": "0SO63uMnOAZc",
    "outputId": "d755b8ff-516d-45b1-aab6-6dbf24284151"
   },
   "outputs": [],
   "source": [
    "model = smf.ols('y~np.power(x,3)',data = data).fit()"
   ]
  },
  {
   "cell_type": "code",
   "execution_count": 100,
   "id": "719748b6-fdfb-44a3-b586-71c56b22208d",
   "metadata": {},
   "outputs": [
    {
     "data": {
      "image/png": "[encoded data removed]",
      "text/plain": [
       "<Figure size 432x288 with 1 Axes>"
      ]
     },
     "metadata": {
      "needs_background": "light"
     },
     "output_type": "display_data"
    }
   ],
   "source": [
    "sns.regplot(x=y, y=np.power(x,3), data=data);"
   ]
  },
  {
   "cell_type": "code",
   "execution_count": 101,
   "id": "e0eefe9d-c42d-412d-bb11-0ee484b9427a",
   "metadata": {},
   "outputs": [
    {
     "data": {
      "text/plain": [
       "Intercept         12.868192\n",
       "np.power(x, 3)     0.011138\n",
       "dtype: float64"
      ]
     },
     "execution_count": 101,
     "metadata": {},
     "output_type": "execute_result"
    }
   ],
   "source": [
    "#Coefficients\n",
    "model.params"
   ]
  },
  {
   "cell_type": "code",
   "execution_count": 102,
   "id": "c9e963de-8def-4a83-bdf2-9e0462308a79",
   "metadata": {},
   "outputs": [
    {
     "name": "stdout",
     "output_type": "stream",
     "text": [
      "Intercept         11.89017\n",
      "np.power(x, 3)     5.00458\n",
      "dtype: float64 \n",
      " Intercept         3.025690e-10\n",
      "np.power(x, 3)    7.869103e-05\n",
      "dtype: float64\n"
     ]
    }
   ],
   "source": [
    "#t and p-Values\n",
    "\n",
    "print(model.tvalues, '\\n', model.pvalues) \n",
    "# pvalues for both intercept and y are less than 0.05"
   ]
  },
  {
   "cell_type": "code",
   "execution_count": 103,
   "id": "b6bb53cc-5d18-49a4-b372-8c383fc92076",
   "metadata": {},
   "outputs": [
    {
     "data": {
      "text/plain": [
       "(0.5686309930618969, 0.5459273611177862)"
      ]
     },
     "execution_count": 103,
     "metadata": {},
     "output_type": "execute_result"
    }
   ],
   "source": [
    "#R squared values\n",
    "(model.rsquared,model.rsquared_adj)"
   ]
  },
  {
   "cell_type": "markdown",
   "id": "0382d0b8-1c2c-4fc0-a325-ce67446ce83a",
   "metadata": {
    "colab_type": "text",
    "id": "F2S7v7rdOAZf"
   },
   "source": [
    "#### Predict for original dataset"
   ]
  },
  {
   "cell_type": "code",
   "execution_count": 104,
   "id": "0211e7c4-dd23-4243-9a37-f44914a74be9",
   "metadata": {
    "colab": {},
    "colab_type": "code",
    "id": "rqe52vmCOAZg",
    "outputId": "1578e5b2-5135-41d4-875a-e580cf87dc6b"
   },
   "outputs": [],
   "source": [
    "#Predict for the given dataset values of original dataset\n"
   ]
  },
  {
   "cell_type": "code",
   "execution_count": 105,
   "id": "60cab44d-284f-49c8-bb8d-1a5748ec3cc8",
   "metadata": {},
   "outputs": [
    {
     "data": {
      "text/plain": [
       "0     24.006370\n",
       "1     13.581036\n",
       "2     15.274039\n",
       "3     20.987924\n",
       "4     24.006370\n",
       "5     15.274039\n",
       "6     16.688587\n",
       "7     13.168923\n",
       "8     24.006370\n",
       "9     20.987924\n",
       "10    18.570939\n",
       "11    13.581036\n",
       "12    16.688587\n",
       "13    13.168923\n",
       "14    13.168923\n",
       "15    13.581036\n",
       "16    15.274039\n",
       "17    16.688587\n",
       "18    12.957298\n",
       "19    16.688587\n",
       "20    14.260465\n",
       "dtype: float64"
      ]
     },
     "execution_count": 105,
     "metadata": {},
     "output_type": "execute_result"
    }
   ],
   "source": [
    "model.predict(data)\n",
    "# Predictions for input data"
   ]
  },
  {
   "cell_type": "code",
   "execution_count": 106,
   "id": "b2ad41f6-29ab-4456-9256-7012fb955624",
   "metadata": {},
   "outputs": [
    {
     "data": {
      "image/png": "[encoded data removed]",
      "text/plain": [
       "<Figure size 432x288 with 1 Axes>"
      ]
     },
     "metadata": {
      "needs_background": "light"
     },
     "output_type": "display_data"
    }
   ],
   "source": [
    "# Comparing original Data's scatterplot with regressed model's scatterplot\n",
    "plt.scatter(data.deliverytime,data.sortingtime)\n",
    "plt.scatter((model.predict(data)),data.sortingtime,marker='+')\n",
    "plt.show()"
   ]
  },
  {
   "cell_type": "code",
   "execution_count": null,
   "id": "07d14ec6-e003-49d2-b1c6-d915528b904c",
   "metadata": {},
   "outputs": [],
   "source": []
  },
  {
   "cell_type": "markdown",
   "id": "da9e7a4e-e584-44c6-890a-fb5e40167836",
   "metadata": {
    "toc-hr-collapsed": true
   },
   "source": [
    "### 12. for np.power(y,3)~x"
   ]
  },
  {
   "cell_type": "code",
   "execution_count": 107,
   "id": "0fe65c48-a4d3-47a8-b926-d2a0e7fb28f9",
   "metadata": {},
   "outputs": [],
   "source": [
    "y = data.deliverytime\n",
    "x = data.sortingtime\n"
   ]
  },
  {
   "cell_type": "code",
   "execution_count": 108,
   "id": "d1c97ba4-d261-413b-93e9-ab4dc91d586c",
   "metadata": {
    "colab": {},
    "colab_type": "code",
    "id": "0SO63uMnOAZc",
    "outputId": "d755b8ff-516d-45b1-aab6-6dbf24284151"
   },
   "outputs": [],
   "source": [
    "model = smf.ols('np.power(y,3)~x',data = data).fit()"
   ]
  },
  {
   "cell_type": "code",
   "execution_count": 109,
   "id": "f036caa4-9016-4790-b820-575f9275db9a",
   "metadata": {},
   "outputs": [
    {
     "data": {
      "image/png": "[encoded data removed]",
      "text/plain": [
       "<Figure size 432x288 with 1 Axes>"
      ]
     },
     "metadata": {
      "needs_background": "light"
     },
     "output_type": "display_data"
    }
   ],
   "source": [
    "sns.regplot(x=np.power(y,3), y=x, data=data);"
   ]
  },
  {
   "cell_type": "code",
   "execution_count": 110,
   "id": "4948503e-34c4-4b10-860e-92dca0603a6d",
   "metadata": {},
   "outputs": [
    {
     "data": {
      "text/plain": [
       "Intercept   -3336.805822\n",
       "x            1509.742400\n",
       "dtype: float64"
      ]
     },
     "execution_count": 110,
     "metadata": {},
     "output_type": "execute_result"
    }
   ],
   "source": [
    "#Coefficients\n",
    "model.params"
   ]
  },
  {
   "cell_type": "code",
   "execution_count": 111,
   "id": "255d0370-9999-407c-afc5-755bd95934ac",
   "metadata": {},
   "outputs": [
    {
     "name": "stdout",
     "output_type": "stream",
     "text": [
      "Intercept   -1.444311\n",
      "x            4.358091\n",
      "dtype: float64 \n",
      " Intercept    0.164941\n",
      "x            0.000339\n",
      "dtype: float64\n"
     ]
    }
   ],
   "source": [
    "#t and p-Values\n",
    "\n",
    "print(model.tvalues, '\\n', model.pvalues) \n",
    "# pvalues for both intercept and y are less than 0.05"
   ]
  },
  {
   "cell_type": "code",
   "execution_count": 112,
   "id": "e1435159-b096-409d-ab0a-20192ad9ba42",
   "metadata": {},
   "outputs": [
    {
     "data": {
      "text/plain": [
       "(0.4999073495787084, 0.4735866837670615)"
      ]
     },
     "execution_count": 112,
     "metadata": {},
     "output_type": "execute_result"
    }
   ],
   "source": [
    "#R squared values\n",
    "(model.rsquared,model.rsquared_adj)"
   ]
  },
  {
   "cell_type": "markdown",
   "id": "42692e73-d7df-47cd-99f3-f052ffc20665",
   "metadata": {
    "colab_type": "text",
    "id": "F2S7v7rdOAZf"
   },
   "source": [
    "#### Predict for original dataset"
   ]
  },
  {
   "cell_type": "code",
   "execution_count": 113,
   "id": "a84d42f0-d102-45f6-bfe4-e1d0489ade3f",
   "metadata": {
    "colab": {},
    "colab_type": "code",
    "id": "rqe52vmCOAZg",
    "outputId": "1578e5b2-5135-41d4-875a-e580cf87dc6b"
   },
   "outputs": [],
   "source": [
    "#Predict for the given dataset values of original dataset\n"
   ]
  },
  {
   "cell_type": "code",
   "execution_count": 114,
   "id": "97d959c1-bc4c-4f30-80a4-8c48c96a4e69",
   "metadata": {},
   "outputs": [
    {
     "data": {
      "text/plain": [
       "0     22.741026\n",
       "1     13.928485\n",
       "2     17.885746\n",
       "3     21.723026\n",
       "4     22.741026\n",
       "5     17.885746\n",
       "6     19.337810\n",
       "7     10.604168\n",
       "8     22.741026\n",
       "9     21.723026\n",
       "10    20.599464\n",
       "11    13.928485\n",
       "12    19.337810\n",
       "13    10.604168\n",
       "14    10.604168\n",
       "15    13.928485\n",
       "16    17.885746\n",
       "17    19.337810\n",
       "18    -6.820763\n",
       "19    19.337810\n",
       "20    16.149518\n",
       "dtype: float64"
      ]
     },
     "execution_count": 114,
     "metadata": {},
     "output_type": "execute_result"
    }
   ],
   "source": [
    "np.cbrt(model.predict(data))\n",
    "# Predictions for input data"
   ]
  },
  {
   "cell_type": "code",
   "execution_count": 115,
   "id": "5f93a0b3-b1e1-40bd-b5f3-f20826765968",
   "metadata": {},
   "outputs": [
    {
     "data": {
      "image/png": "[encoded data removed]",
      "text/plain": [
       "<Figure size 432x288 with 1 Axes>"
      ]
     },
     "metadata": {
      "needs_background": "light"
     },
     "output_type": "display_data"
    }
   ],
   "source": [
    "# Comparing original Data's scatterplot with regressed model's scatterplot\n",
    "plt.scatter(data.deliverytime,data.sortingtime)\n",
    "plt.scatter(np.cbrt(model.predict(data)),data.sortingtime,marker='+')\n",
    "plt.show()"
   ]
  },
  {
   "cell_type": "code",
   "execution_count": null,
   "id": "fc427cd1-67a6-4082-a8f6-ea1f10f7fa06",
   "metadata": {},
   "outputs": [],
   "source": []
  },
  {
   "cell_type": "markdown",
   "id": "c01c146a-284e-415f-bfda-948a818e7db6",
   "metadata": {
    "toc-hr-collapsed": true
   },
   "source": [
    "### 13. for np.power(y,3)~np.power(x,3)"
   ]
  },
  {
   "cell_type": "code",
   "execution_count": 116,
   "id": "3ff1e25b-4830-42a4-bbe1-f0ecd6e77da3",
   "metadata": {},
   "outputs": [],
   "source": [
    "y = data.deliverytime\n",
    "x = data.sortingtime\n"
   ]
  },
  {
   "cell_type": "code",
   "execution_count": 117,
   "id": "fb616444-ee32-461f-a133-32c962694825",
   "metadata": {
    "colab": {},
    "colab_type": "code",
    "id": "0SO63uMnOAZc",
    "outputId": "d755b8ff-516d-45b1-aab6-6dbf24284151"
   },
   "outputs": [],
   "source": [
    "model = smf.ols('np.power(y,3)~np.power(x,3)',data = data).fit()"
   ]
  },
  {
   "cell_type": "code",
   "execution_count": 118,
   "id": "bb83a8c1-8a31-4dd1-9fff-f2e8e623749b",
   "metadata": {},
   "outputs": [
    {
     "data": {
      "image/png": "[encoded data removed]",
      "text/plain": [
       "<Figure size 432x288 with 1 Axes>"
      ]
     },
     "metadata": {
      "needs_background": "light"
     },
     "output_type": "display_data"
    }
   ],
   "source": [
    "sns.regplot(x=np.power(y,3), y=np.power(x,3), data=data);"
   ]
  },
  {
   "cell_type": "code",
   "execution_count": 119,
   "id": "6173f636-6beb-437e-8242-a51afb68c509",
   "metadata": {},
   "outputs": [
    {
     "data": {
      "text/plain": [
       "Intercept         2047.955618\n",
       "np.power(x, 3)      11.247502\n",
       "dtype: float64"
      ]
     },
     "execution_count": 119,
     "metadata": {},
     "output_type": "execute_result"
    }
   ],
   "source": [
    "#Coefficients\n",
    "model.params"
   ]
  },
  {
   "cell_type": "code",
   "execution_count": 120,
   "id": "556b38c2-06f3-4caa-bb58-029d5538c681",
   "metadata": {},
   "outputs": [
    {
     "name": "stdout",
     "output_type": "stream",
     "text": [
      "Intercept         1.654711\n",
      "np.power(x, 3)    4.419168\n",
      "dtype: float64 \n",
      " Intercept         0.114409\n",
      "np.power(x, 3)    0.000295\n",
      "dtype: float64\n"
     ]
    }
   ],
   "source": [
    "#t and p-Values\n",
    "\n",
    "print(model.tvalues, '\\n', model.pvalues) \n",
    "# pvalues for both intercept and y are less than 0.05"
   ]
  },
  {
   "cell_type": "code",
   "execution_count": 121,
   "id": "0e33e4de-3cca-4b5e-b1c1-dfc7140b693d",
   "metadata": {},
   "outputs": [
    {
     "data": {
      "text/plain": [
       "(0.5068655571502552, 0.4809111127897423)"
      ]
     },
     "execution_count": 121,
     "metadata": {},
     "output_type": "execute_result"
    }
   ],
   "source": [
    "#R squared values\n",
    "(model.rsquared,model.rsquared_adj)"
   ]
  },
  {
   "cell_type": "markdown",
   "id": "47616ab5-9a43-4569-b8b8-f3d2dbc8271f",
   "metadata": {
    "colab_type": "text",
    "id": "F2S7v7rdOAZf"
   },
   "source": [
    "#### Predict for original dataset"
   ]
  },
  {
   "cell_type": "code",
   "execution_count": 122,
   "id": "d4f0c563-021b-4902-8b66-90ba375c8c20",
   "metadata": {
    "colab": {},
    "colab_type": "code",
    "id": "rqe52vmCOAZg",
    "outputId": "1578e5b2-5135-41d4-875a-e580cf87dc6b"
   },
   "outputs": [],
   "source": [
    "#Predict for the given dataset values of original dataset\n"
   ]
  },
  {
   "cell_type": "code",
   "execution_count": 123,
   "id": "407cd00e-756b-48f9-86cb-674e499c38f3",
   "metadata": {},
   "outputs": [
    {
     "data": {
      "text/plain": [
       "0     23.690147\n",
       "1     14.040352\n",
       "2     16.481971\n",
       "3     21.720559\n",
       "4     23.690147\n",
       "5     16.481971\n",
       "6     18.075658\n",
       "7     13.298118\n",
       "8     23.690147\n",
       "9     21.720559\n",
       "10    19.837582\n",
       "11    14.040352\n",
       "12    18.075658\n",
       "13    13.298118\n",
       "14    13.298118\n",
       "15    14.040352\n",
       "16    16.481971\n",
       "17    18.075658\n",
       "18    12.882442\n",
       "19    18.075658\n",
       "20    15.115980\n",
       "dtype: float64"
      ]
     },
     "execution_count": 123,
     "metadata": {},
     "output_type": "execute_result"
    }
   ],
   "source": [
    "np.cbrt(model.predict(data))\n",
    "# Predictions for input data"
   ]
  },
  {
   "cell_type": "code",
   "execution_count": 124,
   "id": "123cfb37-4c9c-491a-9196-15d4c39e5d9f",
   "metadata": {},
   "outputs": [
    {
     "data": {
      "image/png": "[encoded data removed]",
      "text/plain": [
       "<Figure size 432x288 with 1 Axes>"
      ]
     },
     "metadata": {
      "needs_background": "light"
     },
     "output_type": "display_data"
    }
   ],
   "source": [
    "# Comparing original Data's scatterplot with regressed model's scatterplot\n",
    "plt.scatter(data.deliverytime,data.sortingtime)\n",
    "plt.scatter(np.cbrt(model.predict(data)),data.sortingtime,marker='+')\n",
    "plt.show()"
   ]
  },
  {
   "cell_type": "markdown",
   "id": "3fdc15fc-2a30-4f95-8998-2b633d09d919",
   "metadata": {},
   "source": [
    "### The transformation No 4. (for np.log(y)~np.log(x)) gives us the best r-squared value and hence can be adopted."
   ]
  },
  {
   "cell_type": "code",
   "execution_count": null,
   "id": "feaf6ffc-77c3-46b8-82bc-89cf8911f9f6",
   "metadata": {},
   "outputs": [],
   "source": []
  }
 ],
 "metadata": {
  "_draft": {
   "nbviewer_url": "https://gist.github.com/5fd642b073c3ecdca0d8e145186dc187"
  },
  "gist": {
   "data": {
    "description": "Desktop/ExcelR/Data Science/Python/Assignments/Simple Linear Regression/Assignment(Simple Linear Regression - Delivery time).ipynb",
    "public": true
   },
   "id": "5fd642b073c3ecdca0d8e145186dc187"
  },
  "kernelspec": {
   "display_name": "Python 3 (ipykernel)",
   "language": "python",
   "name": "python3"
  },
  "language_info": {
   "codemirror_mode": {
    "name": "ipython",
    "version": 3
   },
   "file_extension": ".py",
   "mimetype": "text/x-python",
   "name": "python",
   "nbconvert_exporter": "python",
   "pygments_lexer": "ipython3",
   "version": "3.9.7"
  },
  "toc": {
   "base_numbering": 1,
   "nav_menu": {},
   "number_sections": true,
   "sideBar": true,
   "skip_h1_title": false,
   "title_cell": "Table of Contents",
   "title_sidebar": "Contents",
   "toc_cell": false,
   "toc_position": {},
   "toc_section_display": true,
   "toc_window_display": false
  },
  "varInspector": {
   "cols": {
    "lenName": 16,
    "lenType": 16,
    "lenVar": 40
   },
   "kernels_config": {
    "python": {
     "delete_cmd_postfix": "",
     "delete_cmd_prefix": "del ",
     "library": "var_list.py",
     "varRefreshCmd": "print(var_dic_list())"
    },
    "r": {
     "delete_cmd_postfix": ") ",
     "delete_cmd_prefix": "rm(",
     "library": "var_list.r",
     "varRefreshCmd": "cat(var_dic_list()) "
    }
   },
   "types_to_exclude": [
    "module",
    "function",
    "builtin_function_or_method",
    "instance",
    "_Feature"
   ],
   "window_display": false
  }
 },
 "nbformat": 4,
 "nbformat_minor": 5
}
